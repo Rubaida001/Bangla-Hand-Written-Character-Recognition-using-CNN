{
 "cells": [
  {
   "cell_type": "markdown",
   "metadata": {},
   "source": [
    "# 1. Introduction\n",
    "In this project, I am going to build a neural network to classify bangla handwritten images into 10 different fashion categories. Each of the image is associated with only one category. For this purpose, I am using Fashion MNIST dataset from keras dataset. It contains 60,000 images for training and 10,000 images for testing. Each image is 28x28 grayscale, associated with a label from 10 fashion categories. The class labels are:\n",
    "\n",
    "Each pixel has a single pixel-value associated with it, indicating the lightness or darkness of that pixel. This pixel-value is an integer between 0 and 255. In dataset each row is a separate image. It has 785 columns. The first column consists of the class labels and represents the article of clothing. The rest of the columns contain the pixel values of the associated image. So, 784 columns with pixel values of images. I will build a model that can place an image into one of the 10 class label."
   ]
  },
  {
   "cell_type": "code",
   "execution_count": 1,
   "metadata": {},
   "outputs": [
    {
     "name": "stderr",
     "output_type": "stream",
     "text": [
      "Using TensorFlow backend.\n"
     ]
    }
   ],
   "source": [
    "import os, shutil\n",
    "from skimage import data\n",
    "from skimage.transform import resize \n",
    "import numpy as np\n",
    "from matplotlib import pyplot\n",
    "from keras.utils import to_categorical\n",
    "\n",
    "from keras import layers\n",
    "from keras import models\n",
    "\n",
    "from keras import backend as k\n",
    "\n",
    "k.clear_session()"
   ]
  },
  {
   "cell_type": "markdown",
   "metadata": {},
   "source": [
    "# 2. Data Analysis\n",
    "Data preprocessing aims at making the raw data at hand more amenable to neural networks. Bangla handwritten dataset has been downloaded from this site []. It contains \n",
    "## 2.1 Load Dataset"
   ]
  },
  {
   "cell_type": "code",
   "execution_count": 2,
   "metadata": {},
   "outputs": [],
   "source": [
    "#load dataset\n",
    "path, dirs, files = next(os.walk(\"Dataset/train\"))\n",
    "path, dirs2, files2 = next(os.walk(\"Dataset/test\"))\n",
    "path, dirs3, files3 = next(os.walk(\"Dataset/validation\"))"
   ]
  },
  {
   "cell_type": "markdown",
   "metadata": {},
   "source": [
    "## 2.2 Preprocessing Dataset\n",
    "As you already know by now, data should be formatted into appropriately pre-processed floating point tensors before being fed into our \n",
    "network. Currently, our data sits on a drive as JPEG files, so the steps for getting it into our network are roughly:\n",
    "\n",
    "* Read the picture files.\n",
    "* Decode the JPEG content to RBG grids of pixels.\n",
    "* Convert these into floating point tensors.\n",
    "* Rescale the pixel values (between 0 and 255) to the [0, 1] interval (as you know, neural networks prefer to deal with small input values).\n",
    "\n",
    "- **Change Label:** Each folder of dataset represnets different alphabets. There is 11 folders that starts from 1. Hence, I have changed their label starting from 0-10."
   ]
  },
  {
   "cell_type": "code",
   "execution_count": 3,
   "metadata": {},
   "outputs": [],
   "source": [
    "#read image,change label\n",
    "def process_data(files,folder):\n",
    "    label_dict={'1':'0','2':'1','3':'2','4':'3','5':'4','6':'5','7':'6','8':'7','9':'8','10':'9','11':'10'}\n",
    "    x=[]\n",
    "    y=[]\n",
    "    for file in files:\n",
    "        limg= data.imread(\"Dataset/\"+folder+'/'+file)\n",
    "        key = file.split('_')[-1].split('.')[0]\n",
    "        label_name = label_dict[key]\n",
    "        #img.resize(200,200)\n",
    "        y.append(label_name)\n",
    "        x.append(limg)\n",
    "    return x,y"
   ]
  },
  {
   "cell_type": "code",
   "execution_count": 6,
   "metadata": {},
   "outputs": [
    {
     "name": "stdout",
     "output_type": "stream",
     "text": [
      "13200  13200\n",
      "4289  4289\n",
      "4294  4294\n"
     ]
    }
   ],
   "source": [
    "#read image,change label\n",
    "rx_train, y_train = process_data(files,'train')\n",
    "rx_test, y_test = process_data(files2,'test')\n",
    "rx_val, y_val = process_data(files3,'validation')\n",
    "print(len(rx_train),'',len(y_train))\n",
    "print(len(rx_test),'',len(y_test))\n",
    "print(len(rx_val),'',len(y_val))"
   ]
  },
  {
   "cell_type": "markdown",
   "metadata": {},
   "source": [
    "The output of following five plots represents first five alphabets from train set. The first character is labeled as class 0, second character is labeled as class 10 and so on. So, other alphabets will have different labels, but similar alphabets will have same labels. "
   ]
  },
  {
   "cell_type": "code",
   "execution_count": 5,
   "metadata": {},
   "outputs": [
    {
     "data": {
      "image/png": "[encoded data removed]",
      "text/plain": [
       "<Figure size 432x288 with 5 Axes>"
      ]
     },
     "metadata": {
      "needs_background": "light"
     },
     "output_type": "display_data"
    }
   ],
   "source": [
    "#Show first 5 alphabets from train set \n",
    "for i in range(0, 5):\n",
    "    pyplot.subplot(330 + 1 + i)\n",
    "    pyplot.imshow(rx_train[i], cmap=pyplot.get_cmap('gray'))\n",
    "# show the plot\n",
    "pyplot.show()"
   ]
  },
  {
   "cell_type": "markdown",
   "metadata": {},
   "source": [
    "- **Reshape Data:** It is not possible to feed lists of integers into a neural network. Moreover, different layers are appropriate for different tensor formates and different types of data processing. I am going to use *densely connected* layers which is suitable for 2D tensors. In the dataset, actual images are 8 bit integers in 3D (6000,28,28) tensor formate. It needs to be reshaped and scaled within the interval of [0,1] so that the network can accept it as input. I convert these 2D matrix of 28x28 pixel images into 784 pixel of 1D float32 type matrix. To represent the label, I am using one-hot-encoding which turn the list of numeric or categorical values into the vectors of 0s and 1s.  "
   ]
  },
  {
   "cell_type": "code",
   "execution_count": 7,
   "metadata": {},
   "outputs": [],
   "source": [
    "x_train=np.array(rx_train).reshape(len(rx_train),34,34,1)\n",
    "x_test=np.array(rx_test).reshape(len(rx_test),34,34,1)\n",
    "x_val=np.array(rx_val).reshape(len(rx_val),34,34,1)"
   ]
  },
  {
   "cell_type": "markdown",
   "metadata": {},
   "source": [
    "- **Normalize Data:**  It is not possible to feed lists of integers into a neural network. Moreover, different layers are appropriate for different tensor formates and different types of data processing. I am going to use *densely connected* layers which is suitable for 2D tensors. In the dataset, actual images are 8 bit integers in 3D (6000,28,28) tensor formate. It needs to be reshaped and scaled within the interval of [0,1] so that the network can accept it as input. I convert these 2D matrix of 28x28 pixel images into 784 pixel of 1D float32 type matrix. To represent the label, I am using one-hot-encoding which turn the list of numeric or categorical values into the vectors of 0s and 1s. "
   ]
  },
  {
   "cell_type": "code",
   "execution_count": 11,
   "metadata": {},
   "outputs": [],
   "source": [
    "x_train = np.array(x_train).astype('float32') / 255\n",
    "x_test = np.array(x_test).astype('float32') / 255\n",
    "x_val = np.array(x_val).astype('float32') / 255\n",
    "y_train = to_categorical(y_train)\n",
    "y_test = to_categorical(y_test)\n",
    "y_val = to_categorical(y_val)"
   ]
  },
  {
   "cell_type": "code",
   "execution_count": 12,
   "metadata": {},
   "outputs": [
    {
     "name": "stdout",
     "output_type": "stream",
     "text": [
      "(13200, 34, 34, 1)\n",
      "(4289, 34, 34, 1)\n",
      "(4294, 34, 34, 1)\n",
      "(13200, 11)\n",
      "(4289, 11)\n",
      "(4294, 11)\n"
     ]
    }
   ],
   "source": [
    "print(x_train.shape)\n",
    "print(x_test.shape)\n",
    "print(x_val.shape)\n",
    "print(y_train.shape)\n",
    "print(y_test.shape)\n",
    "print(y_val.shape)"
   ]
  },
  {
   "cell_type": "markdown",
   "metadata": {},
   "source": [
    "# 3. Create Model\n",
    "\n",
    "The workflow will be as follows: First, training data (train_images and train_labels) will be passed into the neural network. The network will then learn to associate images and labels. Finally, the network will be tested by predicting for test_images, and verified whether these predictions match the labels from test_labels. For this assignment, I have applied following methods to classify my dataset. \n",
    "- Convolution Neural Network\n",
    "- Data Augmentation\n",
    "- Convolution Neural Network with Dropout and Batch Normalization\n",
    "- Depthwise Separable Convolution \n",
    "- Dense Neural Networks\n",
    "- Hyperparameter Optimization (DNN)\n",
    "- Hyperparameter Optimization (CNN)\n",
    "<p>In later sections, each method is explained along with trainning and testing process. </p>"
   ]
  },
  {
   "cell_type": "markdown",
   "metadata": {},
   "source": [
    "## 3.1 Convolution Neural Network (CNN)\n",
    "<p>The CNNs have several different filters consisting of trainable parameters which can convolve on a given image spatially to detect features like edges and shapes. These high number of filters essentially learn to capture spatial features from the image based on the learned weights through back propagation and stacked layers of filters can be used to detect complex spatial shapes from the spatial features at every subsequent level. Convolutions are defined by two key parameters:</p>\n",
    " - Size of the patches extracted from the inputs: In this case, it is 3 × 3.\n",
    "\n",
    " - Depth of the output feature map: The number of filters computed by the convolution. This model started with a depth of 16 and ended with a depth of 32."
   ]
  },
  {
   "cell_type": "code",
   "execution_count": 13,
   "metadata": {},
   "outputs": [],
   "source": [
    "# Build the model\n",
    "def create_model(option):    \n",
    "    if(option==1):   #Simple CNN\n",
    "        model = models.Sequential()\n",
    "        model.add(layers.Conv2D(16, (3, 3), activation='relu', input_shape=(34, 34, 1)))\n",
    "        model.add(layers.MaxPooling2D((2, 2)))\n",
    "        model.add(layers.Conv2D(32, (3, 3), activation='relu'))\n",
    "        model.add(layers.MaxPooling2D((2, 2)))\n",
    "        model.add(layers.Conv2D(32, (3, 3), activation='relu'))\n",
    "        model.summary()\n",
    "        model.add(layers.Flatten())\n",
    "        model.add(layers.Dense(32, activation='relu'))\n",
    "        model.add(layers.Dense(11, activation='softmax'))\n",
    "        return model\n",
    "    elif(option==2):  #CNN with dropout\n",
    "        model = models.Sequential()\n",
    "        model.add(layers.Conv2D(16, (3, 3), activation='relu',input_shape=(34, 34, 1)))\n",
    "        model.add(layers.MaxPooling2D((2, 2)))\n",
    "        model.add(layers.Dropout(0.25))\n",
    "        model.add(layers.Conv2D(32, (3, 3), activation='relu',padding='same'))\n",
    "        model.add(layers.MaxPooling2D((2, 2)))\n",
    "        model.add(layers.Dropout(0.25))\n",
    "        model.add(layers.Conv2D(32, (3, 3), activation='relu',padding='same'))\n",
    "        model.add(layers.MaxPooling2D((2, 2)))\n",
    "        model.add(layers.Dropout(0.25))\n",
    "       \n",
    "        model.add(layers.Flatten())\n",
    "        model.add(layers.Dropout(0.25))\n",
    "        model.add(layers.Dense(64, activation='relu'))\n",
    "        model.add(layers.Dense(11, activation='softmax'))\n",
    "        return model\n",
    "    elif(option ==3):   #CNN with Batch Normalization\n",
    "        model = models.Sequential()\n",
    "        model.add(layers.Conv2D(16, (3, 3), activation='relu',input_shape=(34, 34, 1)))\n",
    "        model.add(layers.BatchNormalization())\n",
    "        model.add(layers.MaxPooling2D((2, 2)))\n",
    "        #model.add(layers.Dropout(0.25))\n",
    "\n",
    "        model.add(layers.Conv2D(32, (3, 3), activation='relu',padding='same'))\n",
    "        model.add(layers.BatchNormalization())\n",
    "        model.add(layers.MaxPooling2D((2, 2)))\n",
    "        #model.add(layers.Dropout(0.25))\n",
    "\n",
    "        model.add(layers.Conv2D(32, (3, 3), activation='relu',padding='same'))\n",
    "        model.add(layers.BatchNormalization())\n",
    "        model.add(layers.MaxPooling2D((2, 2)))\n",
    "        #model.add(layers.Dropout(0.25))\n",
    "\n",
    "        model.add(layers.Conv2D(32, (3, 3), activation='relu',padding='same'))\n",
    "        model.add(layers.BatchNormalization())\n",
    "        model.add(layers.MaxPooling2D((2, 2)))\n",
    "        #model.add(layers.Dropout(0.25))\n",
    "\n",
    "        model.add(layers.Flatten())\n",
    "        #model.add(layers.Dropout(0.25))\n",
    "        model.add(layers.Dense(64, activation='relu'))\n",
    "        model.add(layers.BatchNormalization())\n",
    "        model.add(layers.Dense(11, activation='softmax'))\n",
    "        return model\n",
    "    else:                #CNN with Batch Normalization and Dropout\n",
    "        model = models.Sequential()\n",
    "        model.add(layers.Conv2D(16, (3, 3), activation='relu',input_shape=(34, 34, 1)))\n",
    "        model.add(layers.BatchNormalization())\n",
    "        model.add(layers.MaxPooling2D((2, 2)))\n",
    "        model.add(layers.Dropout(0.25))\n",
    "\n",
    "        model.add(layers.Conv2D(32, (3, 3), activation='relu',padding='same'))\n",
    "        model.add(layers.BatchNormalization())\n",
    "        model.add(layers.MaxPooling2D((2, 2)))\n",
    "        model.add(layers.Dropout(0.25))\n",
    "\n",
    "        model.add(layers.Conv2D(32, (3, 3), activation='relu',padding='same'))\n",
    "        model.add(layers.BatchNormalization())\n",
    "        model.add(layers.MaxPooling2D((2, 2)))\n",
    "        model.add(layers.Dropout(0.25))\n",
    "\n",
    "        model.add(layers.Conv2D(32, (3, 3), activation='relu',padding='same'))\n",
    "        model.add(layers.BatchNormalization())\n",
    "        model.add(layers.MaxPooling2D((2, 2)))\n",
    "        model.add(layers.Dropout(0.25))\n",
    "\n",
    "        model.add(layers.Flatten())\n",
    "        model.add(layers.Dropout(0.25))\n",
    "        model.add(layers.Dense(64, activation='relu'))\n",
    "        model.add(layers.BatchNormalization())\n",
    "        model.add(layers.Dense(11, activation='softmax'))      \n",
    "        return model  \n",
    "\n",
    "    "
   ]
  },
  {
   "cell_type": "code",
   "execution_count": null,
   "metadata": {},
   "outputs": [],
   "source": [
    "\n",
    "model = models.Sequential()\n",
    "model.add(layers.Conv2D(16, (3, 3), activation='relu', input_shape=(34, 34, 1)))\n",
    "model.add(layers.MaxPooling2D((2, 2)))\n",
    "model.add(layers.Conv2D(32, (3, 3), activation='relu'))\n",
    "model.add(layers.MaxPooling2D((2, 2)))\n",
    "model.add(layers.Conv2D(32, (3, 3), activation='relu'))"
   ]
  },
  {
   "cell_type": "code",
   "execution_count": 17,
   "metadata": {},
   "outputs": [
    {
     "name": "stdout",
     "output_type": "stream",
     "text": [
      "_________________________________________________________________\n",
      "Layer (type)                 Output Shape              Param #   \n",
      "=================================================================\n",
      "conv2d_4 (Conv2D)            (None, 32, 32, 16)        160       \n",
      "_________________________________________________________________\n",
      "max_pooling2d_3 (MaxPooling2 (None, 16, 16, 16)        0         \n",
      "_________________________________________________________________\n",
      "conv2d_5 (Conv2D)            (None, 14, 14, 32)        4640      \n",
      "_________________________________________________________________\n",
      "max_pooling2d_4 (MaxPooling2 (None, 7, 7, 32)          0         \n",
      "_________________________________________________________________\n",
      "conv2d_6 (Conv2D)            (None, 5, 5, 32)          9248      \n",
      "=================================================================\n",
      "Total params: 14,048\n",
      "Trainable params: 14,048\n",
      "Non-trainable params: 0\n",
      "_________________________________________________________________\n"
     ]
    }
   ],
   "source": [
    "model = create_model(1)"
   ]
  },
  {
   "cell_type": "code",
   "execution_count": null,
   "metadata": {},
   "outputs": [],
   "source": [
    "model.add(layers.Flatten())\n",
    "model.add(layers.Dense(32, activation='relu'))\n",
    "model.add(layers.Dense(11, activation='softmax'))"
   ]
  },
  {
   "cell_type": "code",
   "execution_count": 26,
   "metadata": {},
   "outputs": [],
   "source": [
    "def train_model(x_train,y_train,x_val,y_val,model):\n",
    "    model.compile(optimizer='rmsprop',\n",
    "              loss='categorical_crossentropy',\n",
    "              metrics=['accuracy'])\n",
    "    history = model.fit(x_train, \n",
    "          y_train, \n",
    "          epochs=20,\n",
    "          batch_size = 10,\n",
    "          validation_data=(x_val,y_val))\n",
    "    history_dict = history.history\n",
    "    return history_dict\n",
    "    "
   ]
  },
  {
   "cell_type": "code",
   "execution_count": 27,
   "metadata": {},
   "outputs": [
    {
     "name": "stdout",
     "output_type": "stream",
     "text": [
      "Train on 13200 samples, validate on 4294 samples\n",
      "Epoch 1/20\n",
      "13200/13200 [==============================] - 10s 778us/step - loss: 0.0237 - acc: 0.9942 - val_loss: 0.9506 - val_acc: 0.8749\n",
      "Epoch 2/20\n",
      "13200/13200 [==============================] - 10s 736us/step - loss: 0.0241 - acc: 0.9943 - val_loss: 0.9277 - val_acc: 0.8836\n",
      "Epoch 3/20\n",
      "13200/13200 [==============================] - 11s 797us/step - loss: 0.0238 - acc: 0.9939 - val_loss: 1.0094 - val_acc: 0.8733\n",
      "Epoch 4/20\n",
      "13200/13200 [==============================] - 10s 739us/step - loss: 0.0247 - acc: 0.9948 - val_loss: 1.0661 - val_acc: 0.8759\n",
      "Epoch 5/20\n",
      "13200/13200 [==============================] - 10s 781us/step - loss: 0.0220 - acc: 0.9953 - val_loss: 1.1312 - val_acc: 0.8733\n",
      "Epoch 6/20\n",
      "13200/13200 [==============================] - 9s 677us/step - loss: 0.0230 - acc: 0.9947 - val_loss: 1.0985 - val_acc: 0.8728\n",
      "Epoch 7/20\n",
      "13200/13200 [==============================] - 9s 693us/step - loss: 0.0226 - acc: 0.9943 - val_loss: 1.0048 - val_acc: 0.8845\n",
      "Epoch 8/20\n",
      "13200/13200 [==============================] - 10s 724us/step - loss: 0.0202 - acc: 0.9958 - val_loss: 1.0709 - val_acc: 0.8752\n",
      "Epoch 9/20\n",
      "13200/13200 [==============================] - 10s 729us/step - loss: 0.0242 - acc: 0.9955 - val_loss: 1.1520 - val_acc: 0.8707\n",
      "Epoch 10/20\n",
      "13200/13200 [==============================] - 9s 704us/step - loss: 0.0188 - acc: 0.9958 - val_loss: 1.0499 - val_acc: 0.8677\n",
      "Epoch 11/20\n",
      "13200/13200 [==============================] - 9s 676us/step - loss: 0.0209 - acc: 0.9955 - val_loss: 1.2080 - val_acc: 0.8752\n",
      "Epoch 12/20\n",
      "13200/13200 [==============================] - 10s 727us/step - loss: 0.0187 - acc: 0.9958 - val_loss: 1.1810 - val_acc: 0.8759\n",
      "Epoch 13/20\n",
      "13200/13200 [==============================] - 9s 702us/step - loss: 0.0217 - acc: 0.9958 - val_loss: 1.1336 - val_acc: 0.8768\n",
      "Epoch 14/20\n",
      "13200/13200 [==============================] - 10s 788us/step - loss: 0.0205 - acc: 0.9960 - val_loss: 1.2346 - val_acc: 0.8701\n",
      "Epoch 15/20\n",
      "13200/13200 [==============================] - 10s 754us/step - loss: 0.0188 - acc: 0.9957 - val_loss: 1.2351 - val_acc: 0.8754\n",
      "Epoch 16/20\n",
      "13200/13200 [==============================] - 9s 668us/step - loss: 0.0216 - acc: 0.9961 - val_loss: 1.1774 - val_acc: 0.8752\n",
      "Epoch 17/20\n",
      "13200/13200 [==============================] - 10s 726us/step - loss: 0.0230 - acc: 0.9963 - val_loss: 1.3627 - val_acc: 0.8728\n",
      "Epoch 18/20\n",
      "13200/13200 [==============================] - 9s 696us/step - loss: 0.0202 - acc: 0.9972 - val_loss: 1.2990 - val_acc: 0.8696\n",
      "Epoch 19/20\n",
      "13200/13200 [==============================] - 9s 676us/step - loss: 0.0178 - acc: 0.9972 - val_loss: 1.2937 - val_acc: 0.8766\n",
      "Epoch 20/20\n",
      "13200/13200 [==============================] - 11s 808us/step - loss: 0.0177 - acc: 0.9972 - val_loss: 1.3428 - val_acc: 0.8733\n"
     ]
    }
   ],
   "source": [
    "history = train_model(x_train,y_train,x_val,y_val,model)"
   ]
  },
  {
   "cell_type": "code",
   "execution_count": null,
   "metadata": {},
   "outputs": [],
   "source": [
    "model.compile(optimizer='rmsprop',\n",
    "              loss='categorical_crossentropy',\n",
    "              metrics=['accuracy'])\n",
    "history = model.fit(x_train, \n",
    "          y_train, \n",
    "          epochs=20,\n",
    "          batch_size = 10,\n",
    "          validation_data=(x_val,y_val))"
   ]
  },
  {
   "cell_type": "code",
   "execution_count": 28,
   "metadata": {},
   "outputs": [],
   "source": [
    "def create_graph(history):\n",
    "    import matplotlib.pyplot as plt\n",
    "    acc = history['acc']\n",
    "    val_acc = history['val_acc']\n",
    "    loss = history['loss']\n",
    "    val_loss =history['val_loss']\n",
    "    epochs = range(1, len(acc) + 1)\n",
    "    print('Position of minimum val_loss: ',np.argmin(val_loss)+1, 'Position of maximum val_acc: ',np.argmax(val_acc)+1)\n",
    "\n",
    "    plt.plot(epochs, acc, 'bo', label='Training acc')\n",
    "    plt.plot(epochs, val_acc, 'b', label='Validation acc')\n",
    "    plt.title('Training and validation accuracy')\n",
    "    plt.legend()\n",
    "    plt.figure()\n",
    "    plt.plot(epochs, loss, 'bo', label='Training loss')\n",
    "    plt.plot(epochs, val_loss, 'b', label='Validation loss')\n",
    "    plt.title('Training and validation loss')\n",
    "    plt.legend()\n",
    "    plt.show()\n",
    "    "
   ]
  },
  {
   "cell_type": "code",
   "execution_count": 29,
   "metadata": {},
   "outputs": [
    {
     "name": "stdout",
     "output_type": "stream",
     "text": [
      "Position of minimum val_loss:  2 Position of maximum val_acc:  7\n"
     ]
    },
    {
     "data": {
      "image/png": "[encoded data removed]",
      "text/plain": [
       "<Figure size 432x288 with 1 Axes>"
      ]
     },
     "metadata": {
      "needs_background": "light"
     },
     "output_type": "display_data"
    },
    {
     "data": {
      "image/png": "[encoded data removed]",
      "text/plain": [
       "<Figure size 432x288 with 1 Axes>"
      ]
     },
     "metadata": {
      "needs_background": "light"
     },
     "output_type": "display_data"
    }
   ],
   "source": [
    "create_graph(history)"
   ]
  },
  {
   "cell_type": "code",
   "execution_count": null,
   "metadata": {},
   "outputs": [],
   "source": [
    "import matplotlib.pyplot as plt\n",
    "acc = history.history['acc']\n",
    "val_acc = history.history['val_acc']\n",
    "loss = history.history['loss']\n",
    "val_loss = history.history['val_loss']\n",
    "\n",
    "epochs = range(1, len(acc) + 1)\n",
    "plt.plot(epochs, acc, 'bo', label='Training acc')\n",
    "plt.plot(epochs, val_acc, 'b', label='Validation acc')\n",
    "plt.title('Training and validation accuracy')\n",
    "plt.legend()\n",
    "plt.figure()\n",
    "plt.plot(epochs, loss, 'bo', label='Training loss')\n",
    "plt.plot(epochs, val_loss, 'b', label='Validation loss')\n",
    "plt.title('Training and validation loss')\n",
    "plt.legend()\n",
    "plt.show()"
   ]
  },
  {
   "cell_type": "markdown",
   "metadata": {},
   "source": [
    "overfitting begins after 7 epochs"
   ]
  },
  {
   "cell_type": "code",
   "execution_count": null,
   "metadata": {},
   "outputs": [],
   "source": [
    "def test_model(model,x_test,y_test,step):\n",
    "    test_loss, test_acc = model.evaluate(x_test, y_test,steps=step)\n",
    "    test_acc\n",
    "    "
   ]
  },
  {
   "cell_type": "code",
   "execution_count": null,
   "metadata": {},
   "outputs": [],
   "source": [
    "print(np.argmin(val_loss)+1, np.argmax(val_acc)+1)"
   ]
  },
  {
   "cell_type": "code",
   "execution_count": null,
   "metadata": {},
   "outputs": [],
   "source": [
    "test_model(model,x_test,y_test,(np.argmin(history.history['val_loss'])+1)"
   ]
  },
  {
   "cell_type": "code",
   "execution_count": null,
   "metadata": {},
   "outputs": [],
   "source": [
    "#print(np.argmin(val_loss)+1, np.argmax(val_acc)+1\n",
    "test_loss, test_acc = model.evaluate(x_test, y_test,steps=7)\n",
    "test_acc"
   ]
  },
  {
   "cell_type": "code",
   "execution_count": null,
   "metadata": {},
   "outputs": [],
   "source": [
    "## predicted Image\n",
    "predicted_classes = fashion_model.predict(test_X)\n",
    "predicted_classes = np.argmax(np.round(predicted_classes),axis=1)\n",
    "predicted_classes.shape, test_Y.shape\n",
    "\n",
    "\n",
    "correct = np.where(predicted_classes==test_Y)[0]\n",
    "print \"Found %d correct labels\" % len(correct)\n",
    "for i, correct in enumerate(correct[:9]):\n",
    "    plt.subplot(3,3,i+1)\n",
    "    plt.imshow(test_X[correct].reshape(28,28), cmap='gray', interpolation='none')\n",
    "    plt.title(\"Predicted {}, Class {}\".format(predicted_classes[correct], test_Y[correct]))\n",
    "    plt.tight_layout()\n",
    "######\n",
    "\n",
    "incorrect = np.where(predicted_classes!=test_Y)[0]\n",
    "print \"Found %d incorrect labels\" % len(incorrect)\n",
    "for i, incorrect in enumerate(incorrect[:9]):\n",
    "    plt.subplot(3,3,i+1)\n",
    "    plt.imshow(test_X[incorrect].reshape(28,28), cmap='gray', interpolation='none')\n",
    "    plt.title(\"Predicted {}, Class {}\".format(predicted_classes[incorrect], test_Y[incorrect]))\n",
    "    plt.tight_layout()"
   ]
  },
  {
   "cell_type": "markdown",
   "metadata": {},
   "source": [
    "## 3.2 Data Augmentation"
   ]
  },
  {
   "cell_type": "code",
   "execution_count": null,
   "metadata": {},
   "outputs": [],
   "source": [
    "from keras.preprocessing.image import ImageDataGenerator\n",
    "\n",
    "datagen = ImageDataGenerator(\n",
    "    rotation_range=40,\n",
    "    width_shift_range=0.2,\n",
    "    height_shift_range=0.2,\n",
    "    shear_range=0.2,\n",
    "    zoom_range=0.2,\n",
    "    horizontal_flip=True,\n",
    "    fill_mode='nearest')"
   ]
  },
  {
   "cell_type": "markdown",
   "metadata": {},
   "source": [
    "## 3.3 Convolution Neural Network with Dropout and Batch Normalization\n",
    "- new Convent\n"
   ]
  },
  {
   "cell_type": "code",
   "execution_count": null,
   "metadata": {},
   "outputs": [],
   "source": [
    "from keras.preprocessing.image import ImageDataGenerator\n",
    "#train with data augmentation generator\n",
    "train_datagen = ImageDataGenerator(\n",
    "    rescale=1./255,\n",
    "    rotation_range=40,\n",
    "    width_shift_range=0.2,\n",
    "    height_shift_range=0.2,\n",
    "    shear_range=0.2,\n",
    "    zoom_range=0.2,\n",
    "    horizontal_flip=True,)\n",
    "train_generator = train_datagen.flow_from_directory(\n",
    "    \"Dataset/train\",\n",
    "    target_size=(34, 34),\n",
    "    batch_size=32,\n",
    "    color_mode='grayscale',\n",
    "    class_mode='categorical')\n",
    "\n",
    "#test_datagen = ImageDataGenerator(rescale=1./255)\n",
    "validation_generator = train_datagen.flow_from_directory(\n",
    "    \"Dataset/validation\",\n",
    "    target_size=(34, 34),\n",
    "    batch_size=32,\n",
    "    color_mode='grayscale',\n",
    "    class_mode='categorical')\n",
    "    "
   ]
  },
  {
   "cell_type": "code",
   "execution_count": null,
   "metadata": {},
   "outputs": [],
   "source": [
    "from keras import layers\n",
    "from keras import models\n",
    "\n",
    "\n",
    "model = models.Sequential()\n",
    "model.add(layers.Conv2D(16, (3, 3), activation='relu',input_shape=(34, 34, 1)))\n",
    "model.add(layers.MaxPooling2D((2, 2)))\n",
    "model.add(layers.Dropout(0.25))\n",
    "\n",
    "\n",
    "model.add(layers.Conv2D(32, (3, 3), activation='relu',padding='same'))\n",
    "model.add(layers.MaxPooling2D((2, 2)))\n",
    "model.add(layers.Dropout(0.25))\n",
    "\n",
    "model.add(layers.Conv2D(32, (3, 3), activation='relu',padding='same'))\n",
    "model.add(layers.MaxPooling2D((2, 2)))\n",
    "model.add(layers.Dropout(0.25))\n",
    "\n",
    "model.add(layers.Conv2D(32, (3, 3), activation='relu',padding='same'))\n",
    "model.add(layers.MaxPooling2D((2, 2)))\n",
    "model.add(layers.Dropout(0.25))\n",
    "\n",
    "model.add(layers.Flatten())\n",
    "model.add(layers.Dropout(0.25))\n",
    "model.add(layers.Dense(64, activation='relu'))\n",
    "model.add(layers.Dense(11, activation='softmax'))\n"
   ]
  },
  {
   "cell_type": "code",
   "execution_count": null,
   "metadata": {},
   "outputs": [],
   "source": [
    "model.compile(loss='categorical_crossentropy',\n",
    "              #optimizer=optimizers.RMSprop(lr=1e-4),\n",
    "              optimizer='rmsprop',\n",
    "              metrics=['acc'])"
   ]
  },
  {
   "cell_type": "code",
   "execution_count": null,
   "metadata": {},
   "outputs": [],
   "source": [
    "history = model.fit(x_train, \n",
    "          y_train, \n",
    "          epochs=20,\n",
    "          batch_size = 10,\n",
    "          validation_data=(x_val,y_val))"
   ]
  },
  {
   "cell_type": "code",
   "execution_count": null,
   "metadata": {},
   "outputs": [],
   "source": [
    "#history = model.fit_generator(\n",
    " #   datagen.flow(x_train,y_train,batch_size=32),\n",
    " #   steps_per_epoch=10,\n",
    " #   epochs=15,\n",
    " #   validation_data=(x_val,y_val),\n",
    "  #  validation_steps=10)"
   ]
  },
  {
   "cell_type": "code",
   "execution_count": null,
   "metadata": {},
   "outputs": [],
   "source": [
    "import matplotlib.pyplot as plt\n",
    "acc = history.history['acc']\n",
    "val_acc = history.history['val_acc']\n",
    "loss = history.history['loss']\n",
    "val_loss = history.history['val_loss']\n",
    "epochs = range(1, len(acc) + 1)\n",
    "plt.plot(epochs, acc, 'bo', label='Training acc')\n",
    "plt.plot(epochs, val_acc, 'b', label='Validation acc')\n",
    "plt.title('Training and validation accuracy')\n",
    "plt.legend()\n",
    "plt.figure()\n",
    "plt.plot(epochs, loss, 'bo', label='Training loss')\n",
    "plt.plot(epochs, val_loss, 'b', label='Validation loss')\n",
    "plt.title('Training and validation loss')\n",
    "plt.legend()\n",
    "plt.show()"
   ]
  },
  {
   "cell_type": "code",
   "execution_count": null,
   "metadata": {},
   "outputs": [],
   "source": [
    "print(np.argmin(val_loss)+1, np.argmax(val_acc)+1)\n"
   ]
  },
  {
   "cell_type": "code",
   "execution_count": null,
   "metadata": {},
   "outputs": [],
   "source": [
    "test_loss, test_acc = model.evaluate(x_test,y_test,steps=11)\n",
    "print('test acc:', test_acc)"
   ]
  },
  {
   "cell_type": "markdown",
   "metadata": {},
   "source": [
    "# Batch Normalization"
   ]
  },
  {
   "cell_type": "code",
   "execution_count": null,
   "metadata": {},
   "outputs": [],
   "source": [
    "from keras import layers\n",
    "from keras import models\n",
    "\n",
    "\n",
    "model = models.Sequential()\n",
    "model.add(layers.Conv2D(16, (3, 3), activation='relu',input_shape=(34, 34, 1)))\n",
    "model.add(layers.BatchNormalization())\n",
    "model.add(layers.MaxPooling2D((2, 2)))\n",
    "#model.add(layers.Dropout(0.25))\n",
    "\n",
    "\n",
    "model.add(layers.Conv2D(32, (3, 3), activation='relu',padding='same'))\n",
    "model.add(layers.BatchNormalization())\n",
    "model.add(layers.MaxPooling2D((2, 2)))\n",
    "#model.add(layers.Dropout(0.25))\n",
    "\n",
    "model.add(layers.Conv2D(32, (3, 3), activation='relu',padding='same'))\n",
    "model.add(layers.BatchNormalization())\n",
    "model.add(layers.MaxPooling2D((2, 2)))\n",
    "#model.add(layers.Dropout(0.25))\n",
    "\n",
    "model.add(layers.Conv2D(32, (3, 3), activation='relu',padding='same'))\n",
    "model.add(layers.BatchNormalization())\n",
    "model.add(layers.MaxPooling2D((2, 2)))\n",
    "#model.add(layers.Dropout(0.25))\n",
    "\n",
    "model.add(layers.Flatten())\n",
    "#model.add(layers.Dropout(0.25))\n",
    "model.add(layers.Dense(64, activation='relu'))\n",
    "model.add(layers.BatchNormalization())\n",
    "model.add(layers.Dense(11, activation='softmax'))\n"
   ]
  },
  {
   "cell_type": "code",
   "execution_count": null,
   "metadata": {},
   "outputs": [],
   "source": [
    "model.compile(loss='categorical_crossentropy',\n",
    "              #optimizer=optimizers.RMSprop(lr=1e-4),\n",
    "              optimizer='rmsprop',\n",
    "              metrics=['acc'])"
   ]
  },
  {
   "cell_type": "code",
   "execution_count": null,
   "metadata": {},
   "outputs": [],
   "source": [
    "history = model.fit(x_train, \n",
    "          y_train, \n",
    "          epochs=20,\n",
    "          batch_size = 10,\n",
    "          validation_data=(x_val,y_val))"
   ]
  },
  {
   "cell_type": "code",
   "execution_count": null,
   "metadata": {},
   "outputs": [],
   "source": [
    "import matplotlib.pyplot as plt\n",
    "def plot_graph(history):\n",
    "    acc = history.history['acc']\n",
    "    val_acc = history.history['val_acc']\n",
    "    loss = history.history['loss']\n",
    "    val_loss = history.history['val_loss']\n",
    "    epochs = range(1, len(acc) + 1)\n",
    "    plt.plot(epochs, acc, 'bo', label='Training acc')\n",
    "    plt.plot(epochs, val_acc, 'b', label='Validation acc')\n",
    "    plt.title('Training and validation accuracy')\n",
    "    plt.legend()\n",
    "    plt.figure()\n",
    "    plt.plot(epochs, loss, 'bo', label='Training loss')\n",
    "    plt.plot(epochs, val_loss, 'b', label='Validation loss')\n",
    "    plt.title('Training and validation loss')\n",
    "    plt.legend()\n",
    "    plt.show()\n",
    "    print(np.argmin(val_loss)+1, np.argmax(val_acc)+1)"
   ]
  },
  {
   "cell_type": "code",
   "execution_count": null,
   "metadata": {},
   "outputs": [],
   "source": [
    "#print(np.argmin(val_loss)+1, np.argmax(val_acc)+1)\n",
    "test_loss, test_acc = model.evaluate(x_test, y_test,steps=7)\n",
    "test_acc"
   ]
  },
  {
   "cell_type": "markdown",
   "metadata": {},
   "source": [
    "## 3.4 Depthwise Separable Convolution "
   ]
  },
  {
   "cell_type": "code",
   "execution_count": null,
   "metadata": {},
   "outputs": [],
   "source": [
    "from keras import layers\n",
    "from keras import models\n",
    "\n",
    "model = models.Sequential()\n",
    "model.add(layers.SeparableConv2D(32, 3,activation='relu',input_shape=(34, 34, 1,)))\n",
    "model.add(layers.SeparableConv2D(64, 3, activation='relu'))\n",
    "model.add(layers.MaxPooling2D(2))\n",
    "\n",
    "model.add(layers.SeparableConv2D(64, 3, activation='relu'))\n",
    "model.add(layers.SeparableConv2D(128, 3, activation='relu'))\n",
    "model.add(layers.MaxPooling2D(2))\n",
    "\n",
    "model.add(layers.SeparableConv2D(64, 3, activation='relu'))\n",
    "model.add(layers.SeparableConv2D(128, 3, activation='relu'))\n",
    "model.add(layers.GlobalAveragePooling2D())\n",
    "\n",
    "model.add(layers.Dense(32, activation='relu'))\n",
    "model.add(layers.Dense(11, activation='softmax'))\n",
    "\n",
    "model.compile(optimizer='rmsprop', loss='categorical_crossentropy',metrics=['acc'])"
   ]
  },
  {
   "cell_type": "code",
   "execution_count": null,
   "metadata": {},
   "outputs": [],
   "source": [
    "history = model.fit(x_train, \n",
    "          y_train, \n",
    "          epochs=20,\n",
    "          batch_size = 10,\n",
    "          validation_data=(x_val,y_val))"
   ]
  },
  {
   "cell_type": "code",
   "execution_count": null,
   "metadata": {},
   "outputs": [],
   "source": [
    "plot_graph(history)\n",
    "#print(np.argmin(val_loss)+1, np.argmax(val_acc)+1)\n"
   ]
  },
  {
   "cell_type": "code",
   "execution_count": null,
   "metadata": {},
   "outputs": [],
   "source": [
    "test_loss, test_acc = model.evaluate(x_test, y_test,steps=20)\n",
    "test_acc"
   ]
  },
  {
   "cell_type": "markdown",
   "metadata": {},
   "source": [
    "## 3.5 Inspecting Models Using Keras Callback\n",
    "A good use of checkpointing is to output the model weights each time an improvement is observed during training. Checkpointing is setup to save the network weights only when there is an improvement in classification accuracy on the validation dataset (monitor=’val_acc’ and mode=’max’). The weights are stored in a file that includes the score in the filename (weights-improvement-{val_acc=.2f}.hdf5)."
   ]
  },
  {
   "cell_type": "code",
   "execution_count": null,
   "metadata": {},
   "outputs": [],
   "source": [
    "import keras.utils\n",
    "callbacks_list = [\n",
    "    keras.callbacks.EarlyStopping(\n",
    "    monitor='val_acc',\n",
    "    patience=1,\n",
    "    ),\n",
    "    keras.callbacks.ModelCheckpoint(\n",
    "    filepath='my_model.h5',\n",
    "    monitor='val_loss',\n",
    "    save_best_only=True,\n",
    "    ),\n",
    "    keras.callbacks.ReduceLROnPlateau(\n",
    "    monitor='val_loss',\n",
    "    factor=0.1,\n",
    "    patience=10,)\n",
    "]\n",
    "model.compile(optimizer='rmsprop',\n",
    "              loss='categorical_crossentropy',\n",
    "            metrics=['acc'])\n",
    "model.fit(x_train, y_train, epochs=20,batch_size=32,callbacks=callbacks_list,validation_data=(x_val, y_val))\n",
    "\n",
    "# Save the model\n",
    "#model.save('cats_and_dogs_small_2.h5')"
   ]
  },
  {
   "cell_type": "markdown",
   "metadata": {},
   "source": [
    "## 3.6 Dense Neural Networks\n",
    "## 3.7 Hyperparameter Optimization (DNN)\n",
    "## 3.8 Hyperparameter Optimization (CNN)"
   ]
  },
  {
   "cell_type": "markdown",
   "metadata": {},
   "source": [
    "## 3.9 Model Ensembling"
   ]
  },
  {
   "cell_type": "markdown",
   "metadata": {},
   "source": [
    "## 3.9 Callback/ early stopping\n",
    "\n",
    "https://www.datacamp.com/community/tutorials/convolutional-neural-networks-python"
   ]
  },
  {
   "cell_type": "markdown",
   "metadata": {},
   "source": [
    "# 4. Result Analysis"
   ]
  },
  {
   "cell_type": "markdown",
   "metadata": {},
   "source": [
    "# 5. Conclusion"
   ]
  }
 ],
 "metadata": {
  "kernelspec": {
   "display_name": "Python 3",
   "language": "python",
   "name": "python3"
  },
  "language_info": {
   "codemirror_mode": {
    "name": "ipython",
    "version": 3
   },
   "file_extension": ".py",
   "mimetype": "text/x-python",
   "name": "python",
   "nbconvert_exporter": "python",
   "pygments_lexer": "ipython3",
   "version": "3.6.8"
  }
 },
 "nbformat": 4,
 "nbformat_minor": 2
}
