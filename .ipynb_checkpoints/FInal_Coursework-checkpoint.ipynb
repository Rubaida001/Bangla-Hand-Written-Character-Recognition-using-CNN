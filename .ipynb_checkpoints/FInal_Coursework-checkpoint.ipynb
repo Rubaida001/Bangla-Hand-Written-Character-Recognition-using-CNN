{
 "cells": [
  {
   "cell_type": "markdown",
   "metadata": {},
   "source": [
    "# Introduction\n",
    "\n",
    "In this report, I am going to build a neural network to classify clothing images into 10 different fashion categories. Each of the image is associated with only one category. For this purpose, I am using Fashion MNIST dataset from keras dataset. It contains 60,000 images for training and 10,000 images for testing. Each image is 28x28 grayscale, associated with a label from 10 fashion categories. The class labels are:\n",
    "\n",
    "| **Label**       | 0           | 1       | 2        | 3     | 4    | 5      | 6     | 7       | 8    | 9          |\n",
    "|-------------|-------------|---------|----------|-------|------|--------|-------|---------|------|------------|\n",
    "| **Description** | T-shirt/top | Trouser | Pullover | Dress | Coat | Sandal | Shirt | Sneaker | Bag  | Ankle boot |\n",
    "\n",
    "Each pixel has a single pixel-value associated with it, indicating the lightness or darkness of that pixel. This pixel-value is an integer between 0 and 255. In dataset each row is a separate image. It has 785 columns. The first column consists of the class labels and represents the article of clothing. The rest of the columns contain the pixel values of the associated image. So, 784 columns with pixel values of images. I will build a model that can place an image into one of the 10 class label. "
   ]
  },
  {
   "cell_type": "markdown",
   "metadata": {},
   "source": [
    "# Method\n",
    "The workflow will be as follows: First, training data (train_images and train_labels) will be passed into the neural network. The network will then learn to associate images and labels. Finally, the network will be tested by predicting for test_images, and verified whether these predictions match the labels from test_labels.\n",
    "\n",
    "## Load Dataset\n",
    "At first, it is important to import all the required library and load the dataset from keras. The data are already divided into two sets: one for taining and another for testing purpose. The variables *x_train* and *x_test* are list of images which is represented by values from 0 to 255. *y_train* and *y_test* takes value from 0 to 9 representing the label of fashion categories.\n"
   ]
  },
  {
   "cell_type": "code",
   "execution_count": 1,
   "metadata": {},
   "outputs": [
    {
     "name": "stderr",
     "output_type": "stream",
     "text": [
      "C:\\Users\\eruba\\Anaconda3\\lib\\site-packages\\h5py\\__init__.py:36: FutureWarning: Conversion of the second argument of issubdtype from `float` to `np.floating` is deprecated. In future, it will be treated as `np.float64 == np.dtype(float).type`.\n",
      "  from ._conv import register_converters as _register_converters\n",
      "Using TensorFlow backend.\n"
     ]
    }
   ],
   "source": [
    "from keras.datasets import fashion_mnist\n",
    "from keras.utils import to_categorical\n",
    "from keras import models\n",
    "from keras import layers\n",
    "from keras import optimizers\n",
    "import matplotlib.pyplot as plt\n",
    "import numpy as np\n",
    "from keras.layers import Dense, Dropout, Activation, Flatten\n",
    "from keras.layers import Conv2D, MaxPooling2D, ZeroPadding2D, GlobalAveragePooling2D"
   ]
  },
  {
   "cell_type": "code",
   "execution_count": 2,
   "metadata": {},
   "outputs": [
    {
     "name": "stdout",
     "output_type": "stream",
     "text": [
      "(60000, 28, 28) (60000,) (10000, 28, 28) (10000,)\n"
     ]
    }
   ],
   "source": [
    "((x_train,y_train),(x_test,y_test))=fashion_mnist.load_data()\n",
    "print(x_train.shape,y_train.shape,x_test.shape,y_test.shape,)"
   ]
  },
  {
   "cell_type": "markdown",
   "metadata": {},
   "source": [
    "## Prepare Dataset\n",
    "It is not possible to feed lists of integers into a neural network. Moreover, different layers are appropriate for different tensor formates and different types of data processing. I am going to use *densely connected* layers which is suitable for 2D tensors. In the dataset, actual images are 8 bit integers in 3D (6000,28,28) tensor formate. It needs to be reshaped and scaled within the interval of [0,1] so that the network can accept it as input. I convert these 2D matrix of 28x28 pixel images into 784 pixel of 1D float32 type matrix. To represent the label, I am using one-hot-encoding which turn the list of numeric or categorical values into the vectors of 0s and 1s. "
   ]
  },
  {
   "cell_type": "code",
   "execution_count": 3,
   "metadata": {},
   "outputs": [
    {
     "name": "stdout",
     "output_type": "stream",
     "text": [
      "(10000, 784) (10000, 10) (60000, 784) (60000, 10)\n"
     ]
    }
   ],
   "source": [
    "x_train = x_train.reshape((60000, 28 * 28))\n",
    "x_train = x_train.astype('float32') / 255\n",
    "\n",
    "x_test = x_test.reshape((10000, 28 * 28))\n",
    "x_test = x_test.astype('float32') / 255\n",
    "\n",
    "y_train = to_categorical(y_train)\n",
    "y_test = to_categorical(y_test)\n",
    "\n",
    "print(x_test.shape,y_test.shape,x_train.shape,y_train.shape)"
   ]
  },
  {
   "cell_type": "markdown",
   "metadata": {},
   "source": [
    "### Validation Set\n",
    "- To estimate how well the model has been trained\n",
    "- To estimate the hyperparameter values (like learning rate, number of layer, number of hidden unit,loss function)\n",
    "- I have used 25% of training data for validation set in this model"
   ]
  },
  {
   "cell_type": "code",
   "execution_count": 4,
   "metadata": {},
   "outputs": [
    {
     "name": "stdout",
     "output_type": "stream",
     "text": [
      "(15000, 784) (45000, 784) (15000, 10) (45000, 10)\n"
     ]
    }
   ],
   "source": [
    "x_val = x_train[:15000]\n",
    "x_partial_train = x_train[15000:]\n",
    "\n",
    "y_val = y_train[:15000]\n",
    "y_partial_train = y_train[15000:]\n",
    "print(x_val.shape,x_partial_train.shape,y_val.shape,y_partial_train.shape)"
   ]
  },
  {
   "cell_type": "markdown",
   "metadata": {},
   "source": [
    "## Building Model\n",
    "Neural network is a combination of following objects:\n",
    "- Layers, which are added up to the network\n",
    "- Input data and associated output data\n",
    "- The loss function, which defines the feedback signal for learning\n",
    "- The optimizer, which regulates how learning proceeds\n",
    "\n",
    "### Layers: \n",
    "- Layers are the main building block of a neural network. I have tried different combinations of networks and finally come up with a 64 units *Densely connected* model with 2 layers. \n",
    "- Each layer has *relu* activation function except last one \n",
    "- The end layer is size of 10. This means for each input sample, the network will output a 10-dimensional vector that will encode a different output class.\n",
    "- The last layer uses a softmax activation. It means the network will output a probability distribution over the 10 different output classes—for every input sample. The 10 class scores will sum to 1."
   ]
  },
  {
   "cell_type": "code",
   "execution_count": 5,
   "metadata": {},
   "outputs": [],
   "source": [
    "from keras import models\n",
    "from keras import layers\n",
    "from keras import optimizers\n",
    "from keras.layers import Dropout\n",
    "from keras import regularizers\n",
    "\n",
    "def create_model(layer_list,mid_activation,last_activation,option):\n",
    "    model = models.Sequential()\n",
    "    if(option==1):\n",
    "    ##Add weight regularization\n",
    "        model.add(layers.Dense(layer_list[0],kernel_regularizer=regularizers.l2(0.0001),\n",
    "                           activation = mid_activation, input_shape = (28*28,)))\n",
    "        for s in layer_list[1:]:\n",
    "            model.add(layers.Dense(s, kernel_regularizer=regularizers.l2(0.0001),\n",
    "                                   activation = mid_activation))\n",
    "        model.add(layers.Dense(10, activation = last_activation))\n",
    "        return model\n",
    "    #Add drop out\n",
    "    elif(option==2):\n",
    "        model.add(layers.Dense(layer_list[0],kernel_regularizer=regularizers.l2(0.0001),\n",
    "                           activation = mid_activation, input_shape = (28*28,)))\n",
    "        model.add(layers.Dropout(0.5))\n",
    "        for s in layer_list[1:]:\n",
    "            model.add(layers.Dense(s, kernel_regularizer=regularizers.l2(0.0001),\n",
    "                                   activation = mid_activation))\n",
    "            model.add(layers.Dropout(0.5))\n",
    "        model.add(layers.Dense(10, activation = last_activation))\n",
    "        return model\n",
    "    else:\n",
    "        model.add(layers.Dense(layer_list[0],\n",
    "                           activation = mid_activation, input_shape = (28*28,)))\n",
    "        for s in layer_list[1:]:\n",
    "            model.add(layers.Dense(s, activation = mid_activation))\n",
    "        model.add(layers.Dense(10, activation = last_activation))\n",
    "        return model"
   ]
  },
  {
   "cell_type": "markdown",
   "metadata": {},
   "source": [
    "\n",
    "### Loss function: \n",
    "- This function decides quantity that will be minimized during training. As it is a multiclass classification problem, I am using categorical crossentropy as loss function. It measures the distance between two probability distributions. One for the output by the network and the true distribution of the labels. By minimizing the distance between these two distributions, the network will predict output as close as possible to the true labels.\n",
    "\n",
    "### Optimizer:\n",
    "- Determines how the network will be updated based on the loss function.\n",
    "- I am using rmsprop optimizer for this model\n",
    "\n",
    "### Others:\n",
    "- Batch size: As bigger batch size makes learning slow and smaller one causes less repeating pattern, so I took batch size 300.\n",
    "- Number of Epochs: 50"
   ]
  },
  {
   "cell_type": "code",
   "execution_count": 6,
   "metadata": {},
   "outputs": [],
   "source": [
    "def train_model(model,loss_function,learning_rate,option):\n",
    "       \n",
    "    if(option == 1):\n",
    "        model.compile(optimizer = optimizers.RMSprop(lr = learning_rate),\n",
    "                  loss = loss_function,\n",
    "                  metrics = ['acc'])\n",
    "    else:\n",
    "        decay_v = learning_rate/50 #epoc\n",
    "        sgd = optimizers.SGD(lr=learning_rate, decay=decay_v, momentum=0.8, nesterov=False)\n",
    "        model.compile(optimizer = sgd,\n",
    "                  loss = loss_function,\n",
    "                  metrics = ['acc'])\n",
    "\n",
    "        \n",
    "\n",
    "    history = model.fit(x_partial_train, \n",
    "                    y_partial_train,\n",
    "                    epochs = 50,\n",
    "                    batch_size = 512,\n",
    "                    validation_data = (x_val, y_val))\n",
    "    history_dict = history.history\n",
    "    return history_dict"
   ]
  },
  {
   "cell_type": "code",
   "execution_count": 7,
   "metadata": {},
   "outputs": [],
   "source": [
    "def check_train_result(history_list):\n",
    "    for x in range(len(history_list)):\n",
    "        val_loss = history_list[x]['val_loss'] \n",
    "        val_acc = history_list[x]['val_acc'] \n",
    "        print('Validation accuracy: ',max(val_acc), 'Minimum loss position:',np.argmin(val_loss) )"
   ]
  },
  {
   "cell_type": "code",
   "execution_count": 8,
   "metadata": {},
   "outputs": [],
   "source": [
    "import matplotlib.pyplot as plt\n",
    "import numpy as np\n",
    "def create_graph(history_list):\n",
    "    plt.figure(figsize=(15,5))\n",
    "    #activation_list=['relu','tanh']\n",
    "    #activation_list=['softmax','sigmoid']\n",
    "    lr_list=[0.0001,0.001,0.01]\n",
    "    #node=[16]\n",
    "    for x in range(len(history_list)):\n",
    "        print(max(history_list[x]['val_acc']),' ',str(np.argmin(history_list[x]['val_loss'])))\n",
    "        epochs = range(1, len(history_list[0]['loss']) + 1)\n",
    "        plt.subplot(1,2,1)\n",
    "        plt.plot(epochs,history_list[x]['acc'],label = 'T_acc for lr='+str(lr_list[x]))\n",
    "        plt.plot(epochs,history_list[x]['val_acc'],label = 'V_acc for lr='+str(lr_list[x]))\n",
    "        plt.title('Training and validation accuracy')\n",
    "        plt.ylabel('Accuracy')\n",
    "        plt.xlabel('Epoch')\n",
    "        plt.legend(loc='best')\n",
    "        plt.subplot(1,2,2)\n",
    "        plt.plot(epochs,history_list[x]['loss'],label = 'T_loss for lr='+str(lr_list[x]))\n",
    "        plt.plot(epochs,history_list[x]['val_loss'],label = 'V_loss for lr='+str(lr_list[x]))\n",
    "        plt.title('Training and validation loss')\n",
    "        plt.ylabel('Loss')\n",
    "        plt.xlabel('epoch')\n",
    "        plt.legend(loc='best')\n",
    "    plt.tight_layout()\n",
    "    plt.show()"
   ]
  },
  {
   "cell_type": "markdown",
   "metadata": {},
   "source": [
    "# Train Model\n",
    "\n",
    "#### Layer Size and Hidden Unit\n",
    "- Train the network with 16,32,64,128,512 unit and 2,3,4 layers"
   ]
  },
  {
   "cell_type": "code",
   "execution_count": null,
   "metadata": {},
   "outputs": [],
   "source": [
    "history_list=[]\n",
    "for nodes in [16,32,64,128,512]: \n",
    "    for layer in range(1,4):\n",
    "        model = create_model([nodes]*layer,'relu','softmax',0)\n",
    "        all_history = train_model(model,'categorical_crossentropy',0.001,1)\n",
    "        history_list.append(all_history)\n"
   ]
  },
  {
   "cell_type": "markdown",
   "metadata": {},
   "source": [
    " #### Activation Function\n",
    " - Train the data over 2 layers network with 64 unit\n",
    " - For each hidden layer, consider *relu* and *tanh* activation function"
   ]
  },
  {
   "cell_type": "code",
   "execution_count": 9,
   "metadata": {},
   "outputs": [
    {
     "name": "stdout",
     "output_type": "stream",
     "text": [
      "Train on 45000 samples, validate on 15000 samples\n",
      "Epoch 1/50\n",
      "45000/45000 [==============================] - 1s 16us/step - loss: 0.8442 - acc: 0.7262 - val_loss: 0.6049 - val_acc: 0.7955\n",
      "Epoch 2/50\n",
      "45000/45000 [==============================] - 0s 10us/step - loss: 0.5521 - acc: 0.8099 - val_loss: 0.5011 - val_acc: 0.8285\n",
      "Epoch 3/50\n",
      "45000/45000 [==============================] - 0s 10us/step - loss: 0.4882 - acc: 0.8311 - val_loss: 0.4594 - val_acc: 0.8411\n",
      "Epoch 4/50\n",
      "45000/45000 [==============================] - 0s 10us/step - loss: 0.4535 - acc: 0.8408 - val_loss: 0.4395 - val_acc: 0.8441\n",
      "Epoch 5/50\n",
      "45000/45000 [==============================] - 0s 10us/step - loss: 0.4282 - acc: 0.8508 - val_loss: 0.4371 - val_acc: 0.8421\n",
      "Epoch 6/50\n",
      "45000/45000 [==============================] - 0s 11us/step - loss: 0.4132 - acc: 0.8552 - val_loss: 0.4233 - val_acc: 0.8479\n",
      "Epoch 7/50\n",
      "45000/45000 [==============================] - 0s 11us/step - loss: 0.3996 - acc: 0.8589 - val_loss: 0.4067 - val_acc: 0.8536\n",
      "Epoch 8/50\n",
      "45000/45000 [==============================] - 0s 11us/step - loss: 0.3848 - acc: 0.8659 - val_loss: 0.3947 - val_acc: 0.8583\n",
      "Epoch 9/50\n",
      "45000/45000 [==============================] - 0s 11us/step - loss: 0.3757 - acc: 0.8672 - val_loss: 0.3859 - val_acc: 0.8652\n",
      "Epoch 10/50\n",
      "45000/45000 [==============================] - 0s 11us/step - loss: 0.3653 - acc: 0.8698 - val_loss: 0.3756 - val_acc: 0.8642\n",
      "Epoch 11/50\n",
      "45000/45000 [==============================] - 0s 11us/step - loss: 0.3582 - acc: 0.8732 - val_loss: 0.3920 - val_acc: 0.8600\n",
      "Epoch 12/50\n",
      "45000/45000 [==============================] - 0s 10us/step - loss: 0.3483 - acc: 0.8755 - val_loss: 0.3882 - val_acc: 0.8610\n",
      "Epoch 13/50\n",
      "45000/45000 [==============================] - 0s 10us/step - loss: 0.3418 - acc: 0.8788 - val_loss: 0.3881 - val_acc: 0.8576\n",
      "Epoch 14/50\n",
      "45000/45000 [==============================] - 0s 11us/step - loss: 0.3374 - acc: 0.8782 - val_loss: 0.3618 - val_acc: 0.8671\n",
      "Epoch 15/50\n",
      "45000/45000 [==============================] - 0s 11us/step - loss: 0.3299 - acc: 0.8809 - val_loss: 0.3640 - val_acc: 0.8685\n",
      "Epoch 16/50\n",
      "45000/45000 [==============================] - 0s 10us/step - loss: 0.3254 - acc: 0.8835 - val_loss: 0.3466 - val_acc: 0.8725\n",
      "Epoch 17/50\n",
      "45000/45000 [==============================] - 0s 11us/step - loss: 0.3201 - acc: 0.8853 - val_loss: 0.3688 - val_acc: 0.8647\n",
      "Epoch 18/50\n",
      "45000/45000 [==============================] - 0s 11us/step - loss: 0.3154 - acc: 0.8865 - val_loss: 0.3526 - val_acc: 0.8748\n",
      "Epoch 19/50\n",
      "45000/45000 [==============================] - 0s 11us/step - loss: 0.3097 - acc: 0.8880 - val_loss: 0.3472 - val_acc: 0.8732\n",
      "Epoch 20/50\n",
      "45000/45000 [==============================] - 0s 11us/step - loss: 0.3077 - acc: 0.8883 - val_loss: 0.3558 - val_acc: 0.8736\n",
      "Epoch 21/50\n",
      "45000/45000 [==============================] - 0s 11us/step - loss: 0.3022 - acc: 0.8913 - val_loss: 0.3576 - val_acc: 0.8675\n",
      "Epoch 22/50\n",
      "45000/45000 [==============================] - 0s 11us/step - loss: 0.2983 - acc: 0.8923 - val_loss: 0.3519 - val_acc: 0.8715\n",
      "Epoch 23/50\n",
      "45000/45000 [==============================] - 1s 14us/step - loss: 0.2947 - acc: 0.8927 - val_loss: 0.3575 - val_acc: 0.8711\n",
      "Epoch 24/50\n",
      "45000/45000 [==============================] - 1s 14us/step - loss: 0.2893 - acc: 0.8952 - val_loss: 0.3407 - val_acc: 0.8726\n",
      "Epoch 25/50\n",
      "45000/45000 [==============================] - 1s 14us/step - loss: 0.2871 - acc: 0.8951 - val_loss: 0.3544 - val_acc: 0.8706\n",
      "Epoch 26/50\n",
      "45000/45000 [==============================] - 1s 15us/step - loss: 0.2822 - acc: 0.8977 - val_loss: 0.3590 - val_acc: 0.8727\n",
      "Epoch 27/50\n",
      "45000/45000 [==============================] - 1s 14us/step - loss: 0.2809 - acc: 0.8974 - val_loss: 0.3288 - val_acc: 0.8796\n",
      "Epoch 28/50\n",
      "45000/45000 [==============================] - 1s 11us/step - loss: 0.2784 - acc: 0.8988 - val_loss: 0.3402 - val_acc: 0.8771\n",
      "Epoch 29/50\n",
      "45000/45000 [==============================] - 1s 12us/step - loss: 0.2745 - acc: 0.9002 - val_loss: 0.3299 - val_acc: 0.8816\n",
      "Epoch 30/50\n",
      "45000/45000 [==============================] - 1s 18us/step - loss: 0.2697 - acc: 0.9028 - val_loss: 0.3560 - val_acc: 0.8649\n",
      "Epoch 31/50\n",
      "45000/45000 [==============================] - 1s 22us/step - loss: 0.2677 - acc: 0.9033 - val_loss: 0.3407 - val_acc: 0.8781\n",
      "Epoch 32/50\n",
      "45000/45000 [==============================] - 1s 12us/step - loss: 0.2647 - acc: 0.9034 - val_loss: 0.3259 - val_acc: 0.8827\n",
      "Epoch 33/50\n",
      "45000/45000 [==============================] - 0s 10us/step - loss: 0.2630 - acc: 0.9029 - val_loss: 0.3385 - val_acc: 0.8745\n",
      "Epoch 34/50\n",
      "45000/45000 [==============================] - 1s 11us/step - loss: 0.2597 - acc: 0.9053 - val_loss: 0.3546 - val_acc: 0.8709\n",
      "Epoch 35/50\n",
      "45000/45000 [==============================] - 1s 12us/step - loss: 0.2572 - acc: 0.9052 - val_loss: 0.3385 - val_acc: 0.8793\n",
      "Epoch 36/50\n",
      "45000/45000 [==============================] - 1s 11us/step - loss: 0.2546 - acc: 0.9066 - val_loss: 0.3235 - val_acc: 0.8842\n",
      "Epoch 37/50\n",
      "45000/45000 [==============================] - 1s 11us/step - loss: 0.2519 - acc: 0.9079 - val_loss: 0.3383 - val_acc: 0.8817\n",
      "Epoch 38/50\n",
      "45000/45000 [==============================] - 0s 11us/step - loss: 0.2519 - acc: 0.9074 - val_loss: 0.3188 - val_acc: 0.8861\n",
      "Epoch 39/50\n",
      "45000/45000 [==============================] - 0s 11us/step - loss: 0.2472 - acc: 0.9106 - val_loss: 0.3290 - val_acc: 0.8813\n",
      "Epoch 40/50\n",
      "45000/45000 [==============================] - 0s 10us/step - loss: 0.2452 - acc: 0.9108 - val_loss: 0.3209 - val_acc: 0.8841\n",
      "Epoch 41/50\n",
      "45000/45000 [==============================] - 0s 11us/step - loss: 0.2422 - acc: 0.9117 - val_loss: 0.3265 - val_acc: 0.8797\n",
      "Epoch 42/50\n",
      "45000/45000 [==============================] - 0s 10us/step - loss: 0.2400 - acc: 0.9138 - val_loss: 0.3326 - val_acc: 0.8797\n",
      "Epoch 43/50\n",
      "45000/45000 [==============================] - 0s 11us/step - loss: 0.2394 - acc: 0.9124 - val_loss: 0.3224 - val_acc: 0.8816\n",
      "Epoch 44/50\n",
      "45000/45000 [==============================] - 0s 10us/step - loss: 0.2367 - acc: 0.9133 - val_loss: 0.3182 - val_acc: 0.8864\n",
      "Epoch 45/50\n",
      "45000/45000 [==============================] - 0s 11us/step - loss: 0.2362 - acc: 0.9139 - val_loss: 0.3129 - val_acc: 0.8845\n",
      "Epoch 46/50\n",
      "45000/45000 [==============================] - 0s 11us/step - loss: 0.2324 - acc: 0.9155 - val_loss: 0.3432 - val_acc: 0.8789\n",
      "Epoch 47/50\n",
      "45000/45000 [==============================] - 1s 11us/step - loss: 0.2298 - acc: 0.9153 - val_loss: 0.3260 - val_acc: 0.8819\n",
      "Epoch 48/50\n",
      "45000/45000 [==============================] - 1s 11us/step - loss: 0.2271 - acc: 0.9170 - val_loss: 0.3182 - val_acc: 0.8819\n",
      "Epoch 49/50\n",
      "45000/45000 [==============================] - 0s 11us/step - loss: 0.2274 - acc: 0.9176 - val_loss: 0.3263 - val_acc: 0.8799\n",
      "Epoch 50/50\n",
      "45000/45000 [==============================] - 1s 13us/step - loss: 0.2238 - acc: 0.9181 - val_loss: 0.3282 - val_acc: 0.8807\n",
      "Train on 45000 samples, validate on 15000 samples\n",
      "Epoch 1/50\n",
      "45000/45000 [==============================] - 1s 26us/step - loss: 0.8116 - acc: 0.7304 - val_loss: 0.5712 - val_acc: 0.8043\n",
      "Epoch 2/50\n",
      "45000/45000 [==============================] - 1s 20us/step - loss: 0.5235 - acc: 0.8149 - val_loss: 0.4775 - val_acc: 0.8305\n",
      "Epoch 3/50\n",
      "45000/45000 [==============================] - 1s 20us/step - loss: 0.4651 - acc: 0.8348 - val_loss: 0.4461 - val_acc: 0.8427\n",
      "Epoch 4/50\n",
      "45000/45000 [==============================] - 1s 20us/step - loss: 0.4321 - acc: 0.8456 - val_loss: 0.4241 - val_acc: 0.8477\n",
      "Epoch 5/50\n",
      "45000/45000 [==============================] - 1s 20us/step - loss: 0.4090 - acc: 0.8534 - val_loss: 0.4158 - val_acc: 0.8487\n",
      "Epoch 6/50\n",
      "45000/45000 [==============================] - 1s 18us/step - loss: 0.3915 - acc: 0.8610 - val_loss: 0.3916 - val_acc: 0.8587\n",
      "Epoch 7/50\n",
      "45000/45000 [==============================] - 1s 11us/step - loss: 0.3773 - acc: 0.8652 - val_loss: 0.4132 - val_acc: 0.8462\n",
      "Epoch 8/50\n",
      "45000/45000 [==============================] - 0s 11us/step - loss: 0.3671 - acc: 0.8678 - val_loss: 0.3863 - val_acc: 0.8610\n",
      "Epoch 9/50\n",
      "45000/45000 [==============================] - 1s 15us/step - loss: 0.3575 - acc: 0.8729 - val_loss: 0.3800 - val_acc: 0.8625\n"
     ]
    },
    {
     "name": "stdout",
     "output_type": "stream",
     "text": [
      "Epoch 10/50\n",
      "45000/45000 [==============================] - 1s 20us/step - loss: 0.3488 - acc: 0.8737 - val_loss: 0.3666 - val_acc: 0.8679\n",
      "Epoch 11/50\n",
      "45000/45000 [==============================] - 1s 21us/step - loss: 0.3402 - acc: 0.8777 - val_loss: 0.3712 - val_acc: 0.8651\n",
      "Epoch 12/50\n",
      "45000/45000 [==============================] - 1s 21us/step - loss: 0.3324 - acc: 0.8812 - val_loss: 0.3510 - val_acc: 0.8749\n",
      "Epoch 13/50\n",
      "45000/45000 [==============================] - 1s 22us/step - loss: 0.3275 - acc: 0.8822 - val_loss: 0.3642 - val_acc: 0.8692\n",
      "Epoch 14/50\n",
      "45000/45000 [==============================] - 1s 21us/step - loss: 0.3208 - acc: 0.8836 - val_loss: 0.3495 - val_acc: 0.8733\n",
      "Epoch 15/50\n",
      "45000/45000 [==============================] - 1s 21us/step - loss: 0.3147 - acc: 0.8872 - val_loss: 0.3390 - val_acc: 0.8777\n",
      "Epoch 16/50\n",
      "45000/45000 [==============================] - 1s 15us/step - loss: 0.3100 - acc: 0.8886 - val_loss: 0.3402 - val_acc: 0.8781\n",
      "Epoch 17/50\n",
      "45000/45000 [==============================] - 1s 13us/step - loss: 0.3036 - acc: 0.8906 - val_loss: 0.3605 - val_acc: 0.8687\n",
      "Epoch 18/50\n",
      "45000/45000 [==============================] - 1s 13us/step - loss: 0.3009 - acc: 0.8910 - val_loss: 0.3344 - val_acc: 0.8793\n",
      "Epoch 19/50\n",
      "45000/45000 [==============================] - 1s 20us/step - loss: 0.2957 - acc: 0.8924 - val_loss: 0.3452 - val_acc: 0.8758\n",
      "Epoch 20/50\n",
      "45000/45000 [==============================] - 1s 20us/step - loss: 0.2906 - acc: 0.8959 - val_loss: 0.3417 - val_acc: 0.8730\n",
      "Epoch 21/50\n",
      "45000/45000 [==============================] - 1s 22us/step - loss: 0.2862 - acc: 0.8954 - val_loss: 0.3292 - val_acc: 0.8795\n",
      "Epoch 22/50\n",
      "45000/45000 [==============================] - 1s 15us/step - loss: 0.2837 - acc: 0.8978 - val_loss: 0.3536 - val_acc: 0.8673\n",
      "Epoch 23/50\n",
      "45000/45000 [==============================] - 0s 10us/step - loss: 0.2804 - acc: 0.8988 - val_loss: 0.3231 - val_acc: 0.8833\n",
      "Epoch 24/50\n",
      "45000/45000 [==============================] - 1s 12us/step - loss: 0.2766 - acc: 0.8998 - val_loss: 0.3287 - val_acc: 0.8781\n",
      "Epoch 25/50\n",
      "45000/45000 [==============================] - 1s 16us/step - loss: 0.2728 - acc: 0.9011 - val_loss: 0.3262 - val_acc: 0.8830\n",
      "Epoch 26/50\n",
      "45000/45000 [==============================] - 1s 19us/step - loss: 0.2680 - acc: 0.9014 - val_loss: 0.3295 - val_acc: 0.8799\n",
      "Epoch 27/50\n",
      "45000/45000 [==============================] - 1s 12us/step - loss: 0.2659 - acc: 0.9024 - val_loss: 0.3385 - val_acc: 0.8763\n",
      "Epoch 28/50\n",
      "45000/45000 [==============================] - 0s 11us/step - loss: 0.2631 - acc: 0.9048 - val_loss: 0.3241 - val_acc: 0.8829\n",
      "Epoch 29/50\n",
      "45000/45000 [==============================] - 0s 11us/step - loss: 0.2603 - acc: 0.9055 - val_loss: 0.3288 - val_acc: 0.8799\n",
      "Epoch 30/50\n",
      "45000/45000 [==============================] - 1s 18us/step - loss: 0.2563 - acc: 0.9069 - val_loss: 0.3344 - val_acc: 0.8772\n",
      "Epoch 31/50\n",
      "45000/45000 [==============================] - 1s 19us/step - loss: 0.2552 - acc: 0.9075 - val_loss: 0.3200 - val_acc: 0.8829\n",
      "Epoch 32/50\n",
      "45000/45000 [==============================] - 1s 19us/step - loss: 0.2503 - acc: 0.9090 - val_loss: 0.3214 - val_acc: 0.8822\n",
      "Epoch 33/50\n",
      "45000/45000 [==============================] - 1s 18us/step - loss: 0.2475 - acc: 0.9106 - val_loss: 0.3205 - val_acc: 0.8836\n",
      "Epoch 34/50\n",
      "45000/45000 [==============================] - 1s 11us/step - loss: 0.2454 - acc: 0.9115 - val_loss: 0.3156 - val_acc: 0.8860\n",
      "Epoch 35/50\n",
      "45000/45000 [==============================] - 1s 11us/step - loss: 0.2434 - acc: 0.9124 - val_loss: 0.3226 - val_acc: 0.8829\n",
      "Epoch 36/50\n",
      "45000/45000 [==============================] - 1s 13us/step - loss: 0.2395 - acc: 0.9134 - val_loss: 0.3168 - val_acc: 0.8849\n",
      "Epoch 37/50\n",
      "45000/45000 [==============================] - 1s 20us/step - loss: 0.2373 - acc: 0.9141 - val_loss: 0.3195 - val_acc: 0.8841\n",
      "Epoch 38/50\n",
      "45000/45000 [==============================] - 1s 20us/step - loss: 0.2349 - acc: 0.9138 - val_loss: 0.3087 - val_acc: 0.8887\n",
      "Epoch 39/50\n",
      "45000/45000 [==============================] - 1s 20us/step - loss: 0.2339 - acc: 0.9152 - val_loss: 0.3210 - val_acc: 0.8820\n",
      "Epoch 40/50\n",
      "45000/45000 [==============================] - 1s 13us/step - loss: 0.2291 - acc: 0.9165 - val_loss: 0.3190 - val_acc: 0.8834\n",
      "Epoch 41/50\n",
      "45000/45000 [==============================] - 1s 11us/step - loss: 0.2286 - acc: 0.9170 - val_loss: 0.3145 - val_acc: 0.8837\n",
      "Epoch 42/50\n",
      "45000/45000 [==============================] - 1s 12us/step - loss: 0.2256 - acc: 0.9184 - val_loss: 0.3448 - val_acc: 0.8775\n",
      "Epoch 43/50\n",
      "45000/45000 [==============================] - 1s 20us/step - loss: 0.2240 - acc: 0.9194 - val_loss: 0.3303 - val_acc: 0.8813\n",
      "Epoch 44/50\n",
      "45000/45000 [==============================] - 1s 21us/step - loss: 0.2218 - acc: 0.9188 - val_loss: 0.3121 - val_acc: 0.8885\n",
      "Epoch 45/50\n",
      "45000/45000 [==============================] - 1s 19us/step - loss: 0.2187 - acc: 0.9206 - val_loss: 0.3140 - val_acc: 0.8885\n",
      "Epoch 46/50\n",
      "45000/45000 [==============================] - 1s 16us/step - loss: 0.2169 - acc: 0.9227 - val_loss: 0.3248 - val_acc: 0.8814\n",
      "Epoch 47/50\n",
      "45000/45000 [==============================] - 0s 11us/step - loss: 0.2151 - acc: 0.9216 - val_loss: 0.3216 - val_acc: 0.8851\n",
      "Epoch 48/50\n",
      "45000/45000 [==============================] - 1s 12us/step - loss: 0.2127 - acc: 0.9234 - val_loss: 0.3253 - val_acc: 0.8809\n",
      "Epoch 49/50\n",
      "45000/45000 [==============================] - 1s 17us/step - loss: 0.2124 - acc: 0.9229 - val_loss: 0.3093 - val_acc: 0.8899\n",
      "Epoch 50/50\n",
      "45000/45000 [==============================] - 1s 20us/step - loss: 0.2088 - acc: 0.9244 - val_loss: 0.3212 - val_acc: 0.8855\n"
     ]
    }
   ],
   "source": [
    "history_list=[]\n",
    "for activation in ['relu','tanh']:\n",
    "    model = create_model([64]*1,activation,'softmax',0)\n",
    "    all_history = train_model(model,'categorical_crossentropy',0.001,1)    \n",
    "    history_list.append(all_history)"
   ]
  },
  {
   "cell_type": "markdown",
   "metadata": {},
   "source": [
    "#### Learning Rate\n",
    "- Train the data over 2 layers network with 64 unit\n",
    "- Consider, learning rate of 0.0001, 0.001, 0.01"
   ]
  },
  {
   "cell_type": "code",
   "execution_count": null,
   "metadata": {},
   "outputs": [],
   "source": [
    "history_list=[]\n",
    "for lr in [0.0001,0.001,0.01]:\n",
    "    model = create_model([64]*1,'relu','softmax',0)\n",
    "    all_history = train_model(model,'categorical_crossentropy',lr,1)    \n",
    "    history_list.append(all_history)\n",
    "    "
   ]
  },
  {
   "cell_type": "markdown",
   "metadata": {},
   "source": [
    "### Optimizer\n",
    "- Use SGD with momentum "
   ]
  },
  {
   "cell_type": "code",
   "execution_count": null,
   "metadata": {},
   "outputs": [],
   "source": [
    "history_list=[]\n",
    "model = create_model([64]*1,'relu','softmax',0)\n",
    "all_history = train_model(model,'categorical_crossentropy',0.001,0)    \n",
    "history_list.append(all_history)"
   ]
  },
  {
   "cell_type": "markdown",
   "metadata": {},
   "source": [
    "### Final Train Configuration\n",
    "- 2 layer with 64 unit\n",
    "- Epoch = 50 and Batch size = 512\n",
    "- Activation Function = *relu* and *softmax*\n",
    "- Optimizer *rmsprop* with learning rate 0.001\n",
    "- metrics = *accuracy* and loss function = *categorical_crossentropy*"
   ]
  },
  {
   "cell_type": "code",
   "execution_count": null,
   "metadata": {},
   "outputs": [],
   "source": [
    "history_list=[]\n",
    "model = create_model([64]*1,'relu','softmax',0)\n",
    "all_history = train_model(model,'categorical_crossentropy',0.1,1)    \n",
    "history_list.append(all_history)"
   ]
  },
  {
   "cell_type": "code",
   "execution_count": null,
   "metadata": {},
   "outputs": [],
   "source": [
    "# Check training result\n",
    "check_train_result(history_list)"
   ]
  },
  {
   "cell_type": "markdown",
   "metadata": {},
   "source": [
    "# Test Model\n"
   ]
  },
  {
   "cell_type": "code",
   "execution_count": null,
   "metadata": {},
   "outputs": [],
   "source": [
    "model = create_model([64]*1,'relu','softmax',0)\n",
    "model.compile(optimizer=optimizers.RMSprop(lr = 0.001),\n",
    "              loss= 'categorical_crossentropy',\n",
    "              metrics=['accuracy'])\n",
    "\n",
    "model.fit(x_train,y_train,epochs=1,batch_size=512)\n",
    "results = model.evaluate(x_test, y_test)\n",
    "results"
   ]
  },
  {
   "cell_type": "markdown",
   "metadata": {},
   "source": [
    "- To verify the prediction using `predict` function"
   ]
  },
  {
   "cell_type": "code",
   "execution_count": null,
   "metadata": {},
   "outputs": [],
   "source": [
    "model.predict(x_test)"
   ]
  },
  {
   "cell_type": "code",
   "execution_count": null,
   "metadata": {},
   "outputs": [],
   "source": [
    "y_test"
   ]
  },
  {
   "cell_type": "markdown",
   "metadata": {},
   "source": [
    "# K-fold Cross Validation\n",
    "To improve the performance of the model it is important to tune its hyperparameters. Validation data helps to find out a good configuration by measuring the performance of model. But every time when we try to tune a hyperparameter of the model based on the model’s performance on the validation set, some information about the validation data leaks into the model. This leads us to build a model that performs artificially well on the validation data, but not on the new data. To find out a random set of validation data I used K-fold cross validation process in this section. "
   ]
  },
  {
   "cell_type": "code",
   "execution_count": 5,
   "metadata": {},
   "outputs": [],
   "source": [
    "from keras import backend as K\n",
    "\n",
    "# Some memory clean-up\n",
    "K.clear_session()"
   ]
  },
  {
   "cell_type": "code",
   "execution_count": 6,
   "metadata": {},
   "outputs": [],
   "source": [
    "# Display training progress by printing a single dot for each completed epoch\n",
    "# https://www.tensorflow.org/tutorials/keras/basic_regression\n",
    "import keras as keras\n",
    "class PrintDot(keras.callbacks.Callback):\n",
    "  def on_epoch_end(self, epoch, logs):\n",
    "    if epoch % 100 == 0: print('')\n",
    "    print('.', end='')\n",
    "    if epoch  == num_epochs - 1: print(' ')"
   ]
  },
  {
   "cell_type": "markdown",
   "metadata": {},
   "source": [
    "**Test the model with k-fold**"
   ]
  },
  {
   "cell_type": "code",
   "execution_count": 7,
   "metadata": {},
   "outputs": [
    {
     "name": "stdout",
     "output_type": "stream",
     "text": [
      "processing fold # 0\n",
      "(45000, 784)\n",
      "\n",
      "....................................................................................................\n",
      "....................................................................................................\n",
      "....................................................................................................\n",
      "....................................................................................................\n",
      "....................................................................................................\n",
      ".................................................................................................... \n",
      "processing fold # 1\n",
      "(45000, 784)\n",
      "\n",
      "....................................................................................................\n",
      "....................................................................................................\n",
      "....................................................................................................\n",
      "....................................................................................................\n",
      "....................................................................................................\n",
      ".................................................................................................... \n",
      "processing fold # 2\n",
      "(45000, 784)\n",
      "\n",
      "....................................................................................................\n",
      "....................................................................................................\n",
      "....................................................................................................\n",
      "....................................................................................................\n",
      "....................................................................................................\n",
      ".................................................................................................... \n",
      "processing fold # 3\n",
      "(45000, 784)\n",
      "\n",
      "....................................................................................................\n",
      "....................................................................................................\n",
      "....................................................................................................\n",
      "....................................................................................................\n",
      "....................................................................................................\n",
      ".................................................................................................... \n"
     ]
    }
   ],
   "source": [
    "import numpy as np\n",
    "num_epochs = 600\n",
    "k = 4\n",
    "num_val_samples = len(x_train) // k\n",
    "all_loss_history = []\n",
    "for i in range(k):\n",
    "    print('processing fold #', i)\n",
    "    # Prepare the validation data: data from partition # k\n",
    "    x_val = x_train[i * num_val_samples: (i + 1) * num_val_samples]\n",
    "    y_val = y_train[i * num_val_samples: (i + 1) * num_val_samples]\n",
    "\n",
    "    # Prepare the training data: data from all other partitions\n",
    "    x_partial_train = np.concatenate(\n",
    "        [x_train[:i * num_val_samples],\n",
    "         x_train[(i + 1) * num_val_samples:]],\n",
    "        axis=0)\n",
    "    y_partial_train = np.concatenate(\n",
    "        [y_train[:i * num_val_samples],\n",
    "         y_train[(i + 1) * num_val_samples:]],\n",
    "        axis=0)\n",
    "    print(x_partial_train.shape)\n",
    "    \n",
    "   \n",
    "    model = create_model([64]*1,'relu','softmax',0)\n",
    "    \n",
    "       # model.compile(optimizer = optimizers.RMSprop(lr = 0.001),\n",
    "       # optimizer = optimizers.SGD(lr=0.1, decay=0.002, momentum=0.8, nesterov=False\n",
    "       # optimizers.SGD(lr=0.01, decay=0.0, momentum=0.7, nesterov=False)\n",
    "    model.compile(optimizer = optimizers.RMSprop(lr = 0.001),\n",
    "                  loss = 'categorical_crossentropy',\n",
    "                  metrics = ['acc'])\n",
    "    history = model.fit(x_partial_train, y_partial_train,\n",
    "                        validation_data=(x_val, y_val),\n",
    "                        epochs=num_epochs, \n",
    "                        batch_size=512, \n",
    "                        verbose=0, \n",
    "                        callbacks=[PrintDot()])\n",
    "    loss_history = history.history['val_loss']\n",
    "    all_loss_history.append(loss_history)\n",
    "    #history_dict = history.history\n",
    "    #print(history_dict.keys())"
   ]
  },
  {
   "cell_type": "code",
   "execution_count": 8,
   "metadata": {},
   "outputs": [
    {
     "data": {
      "image/png": "[encoded data removed]",
      "text/plain": [
       "<Figure size 432x288 with 1 Axes>"
      ]
     },
     "metadata": {
      "needs_background": "light"
     },
     "output_type": "display_data"
    }
   ],
   "source": [
    "#Find the average of the per-epoch val_acc scores for all folds and graph them:\n",
    "average_loss_history = [np.mean([x[i] for x in all_loss_history])for i in range(num_epochs)]\n",
    "plt.plot(range(1, len(average_loss_history) + 1), average_loss_history)\n",
    "plt.xlabel('Epochs')\n",
    "plt.ylabel('Validation Loss')\n",
    "plt.show()"
   ]
  },
  {
   "cell_type": "code",
   "execution_count": 9,
   "metadata": {},
   "outputs": [
    {
     "data": {
      "text/plain": [
       "46"
      ]
     },
     "execution_count": 9,
     "metadata": {},
     "output_type": "execute_result"
    }
   ],
   "source": [
    "np.argmin(average_loss_history)"
   ]
  },
  {
   "cell_type": "markdown",
   "metadata": {},
   "source": [
    "To interpret the plot easily I have removed the first 10 points (because they are on a different scale form the rest of the plot) and replace each point by an exponential moving average (to smooth the curve)"
   ]
  },
  {
   "cell_type": "code",
   "execution_count": 10,
   "metadata": {},
   "outputs": [
    {
     "data": {
      "image/png": "[encoded data removed]",
      "text/plain": [
       "<Figure size 432x288 with 1 Axes>"
      ]
     },
     "metadata": {
      "needs_background": "light"
     },
     "output_type": "display_data"
    }
   ],
   "source": [
    "def smooth_curve(points, factor = 0.9):\n",
    "    smoothed_points = []\n",
    "    for point in points:\n",
    "        if smoothed_points: # an empty list is 'False'\n",
    "            previous = smoothed_points[-1] # the last appended point\n",
    "            smoothed_points.append(previous * factor + point * (1 - factor))\n",
    "        else:\n",
    "            smoothed_points.append(point)\n",
    "    return smoothed_points\n",
    "\n",
    "smooth_loss_history = smooth_curve(loss_history[10:])\n",
    "plt.plot(range(1, len(smooth_loss_history) + 1), smooth_loss_history)\n",
    "plt.xlabel('Epochs')\n",
    "plt.ylabel('Validation Loss')\n",
    "plt.show()"
   ]
  },
  {
   "cell_type": "markdown",
   "metadata": {},
   "source": [
    "** Test the model with K-fold**\n",
    "The vaidation accuracy stops improving after "
   ]
  },
  {
   "cell_type": "code",
   "execution_count": 11,
   "metadata": {},
   "outputs": [
    {
     "data": {
      "text/plain": [
       "37"
      ]
     },
     "execution_count": 11,
     "metadata": {},
     "output_type": "execute_result"
    }
   ],
   "source": [
    "np.argmin(smooth_loss_history)"
   ]
  },
  {
   "cell_type": "code",
   "execution_count": 12,
   "metadata": {},
   "outputs": [
    {
     "name": "stdout",
     "output_type": "stream",
     "text": [
      "10000/10000 [==============================] - 0s 50us/step\n"
     ]
    }
   ],
   "source": [
    "model = create_model([64]*1,'relu','softmax',0)\n",
    "model.compile(optimizer=optimizers.RMSprop(lr = 0.001),\n",
    "              loss= 'categorical_crossentropy',\n",
    "              metrics=['accuracy'])\n",
    "\n",
    "model.fit(x_train,y_train,epochs=np.argmin(smooth_loss_history),batch_size=512,verbose = 0)\n",
    "test_loss_score, test_val_score = model.evaluate(x_test, y_test)"
   ]
  },
  {
   "cell_type": "code",
   "execution_count": 13,
   "metadata": {},
   "outputs": [
    {
     "data": {
      "text/plain": [
       "0.8702"
      ]
     },
     "execution_count": 13,
     "metadata": {},
     "output_type": "execute_result"
    }
   ],
   "source": [
    "test_val_score"
   ]
  },
  {
   "cell_type": "markdown",
   "metadata": {},
   "source": [
    "## Regularization\n",
    "- It is an important process to mitigate overfitting by introducing additional term into the cost function. \n",
    "- "
   ]
  },
  {
   "cell_type": "markdown",
   "metadata": {},
   "source": [
    "**Train data with regularization**"
   ]
  },
  {
   "cell_type": "code",
   "execution_count": null,
   "metadata": {},
   "outputs": [],
   "source": [
    "history_list=[]\n",
    "model = create_model([64]*1,'relu','softmax',1)\n",
    "all_history = train_model(model,'categorical_crossentropy',0.001,1)    \n",
    "history_list.append(all_history)"
   ]
  },
  {
   "cell_type": "code",
   "execution_count": null,
   "metadata": {},
   "outputs": [],
   "source": [
    "# Check training result\n",
    "check_train_result(history_list)"
   ]
  },
  {
   "cell_type": "markdown",
   "metadata": {},
   "source": [
    "**Test data with regularization**"
   ]
  },
  {
   "cell_type": "code",
   "execution_count": null,
   "metadata": {},
   "outputs": [],
   "source": [
    "#decay_v = 0.1/100 #epoc\n",
    "#sgd = optimizers.SGD(lr=0.1, decay=decay_v, momentum=0.8, nesterov=False)\n",
    "#model.compile(optimizer = sgd,\n",
    "\n",
    "model = create_model([64]*1,'relu','softmax',1)\n",
    "model.compile(optimizer=optimizers.RMSprop(lr = 0.001),\n",
    "              loss= 'categorical_crossentropy',\n",
    "              metrics=['accuracy'])\n",
    "   \n",
    "model.fit(x_train,y_train,epochs=38,batch_size=512)\n",
    "results = model.evaluate(x_test, y_test)\n",
    "results"
   ]
  },
  {
   "cell_type": "markdown",
   "metadata": {},
   "source": [
    "## Adding Dropout"
   ]
  },
  {
   "cell_type": "markdown",
   "metadata": {},
   "source": [
    "**Train the model with drop out with regularization**\n",
    "- Dropout is a process to set zero randomly on a layer.\n",
    "- The dropout rate is usually set between 0.2 and 0.5."
   ]
  },
  {
   "cell_type": "code",
   "execution_count": null,
   "metadata": {},
   "outputs": [],
   "source": [
    "history_list=[]\n",
    "model = create_model([64]*1,'relu','softmax',2)\n",
    "all_history = train_model(model,'categorical_crossentropy',0.001,1)    \n",
    "history_list.append(all_history)"
   ]
  },
  {
   "cell_type": "code",
   "execution_count": null,
   "metadata": {},
   "outputs": [],
   "source": [
    "# Check training result\n",
    "check_train_result(history_list)"
   ]
  },
  {
   "cell_type": "markdown",
   "metadata": {},
   "source": [
    "**Test the model with drop out with regularization**"
   ]
  },
  {
   "cell_type": "code",
   "execution_count": null,
   "metadata": {},
   "outputs": [],
   "source": [
    "#decay_v = 0.1/100 #epoc\n",
    "#sgd = optimizers.SGD(lr=0.1, decay=decay_v, momentum=0.8, nesterov=False)\n",
    "#model.compile(optimizer = sgd,\n",
    "\n",
    "model = create_model([64]*1,'relu','softmax',2)\n",
    "model.compile(optimizer=optimizers.RMSprop(lr = 0.001),\n",
    "              loss= 'categorical_crossentropy',\n",
    "              metrics=['accuracy'])\n",
    "\n",
    "model.fit(x_train,y_train,epochs=37,batch_size=512)\n",
    "results = model.evaluate(x_test, y_test)\n",
    "results"
   ]
  },
  {
   "cell_type": "markdown",
   "metadata": {},
   "source": [
    "# Results\n",
    "In this section all the findings created by the proposed model has been accumulated. "
   ]
  },
  {
   "cell_type": "code",
   "execution_count": null,
   "metadata": {},
   "outputs": [],
   "source": [
    "create_graph(history_list)"
   ]
  },
  {
   "cell_type": "markdown",
   "metadata": {},
   "source": [
    "**1. Network Layer and Size**: \n",
    "- This model will classify 10 different categories as output. So, to prevent any information dropout I have selected input layer with more than 10 units. I have started building model with small network of 16 units with 2 layers. Later, increase the units and layers which includes 32,64,128,512 units with a combination of 2,3 and 4 layers. The graphs below presents both accuracy and loss of training and validation of these different types of networks. \n",
    "\n",
    "<img src=\"files/16_234.png\" alt=\"Drawing\" style=\"width: 800px;\"/> \n",
    "                          **Fig1: Graph of accuracy and loss during training (network of 16 units with 2,3,4 layers**\n",
    "<img src=\"files/32_234.png\" alt=\"Drawing\" style=\"width: 800px;\"/> \n",
    "                          **Fig2: Graph of accuracy and loss during training (network of 32 units with 2,3,4 layers**\n",
    "<img src=\"files/64_234.png\" alt=\"Drawing\" style=\"width: 800px;\"/> \n",
    "                          **Fig3: Graph of accuracy and loss during training (network of 64 units with 2,3,4 layers**\n",
    "<img src=\"files/128_234.png\" alt=\"Drawing\" style=\"width: 800px;\"/> \n",
    "                          **Fig4: Graph of accuracy and loss during training (network of 128 units with 2,3,4 layers**\n",
    "<img src=\"files/512_234.png\" alt=\"Drawing\" style=\"width: 800px;\"/> \n",
    "                          **Fig5: Graph of accuracy and loss during training (network of 512 units with 2,3,4 layers**\n"
   ]
  },
  {
   "cell_type": "markdown",
   "metadata": {},
   "source": [
    "- According to Fig1, we can see that small networks starts overfitting slowly and shows a lower validation loss which indicates a better model. But it's hypothesis space is small that can minimize the learning capability. So, I increased the network capacity. For bigger network,(Fig4 and Fig5) it started overfitting very quickly and validation loss is also noiser. To select an appropriate network I have considered these issues: lower difference between validation and training loss, percentage of validation accuracy, epochs of minimal validation loss which indicates starting point of overfitting. That's why I chose a 64 units network with 2 layers. The table below shows the result of maximum validation accuracy and position of minimum validation loss with different hidden units and layers. "
   ]
  },
  {
   "cell_type": "markdown",
   "metadata": {},
   "source": [
    "| Hyperparameters | Layers | validation_acc      |  Position of minimum v_loss |\n",
    "|:---------------:|:------:|:-------------------:|:---------------------------:|\n",
    "|  Hidden Unit:16 |    2   |       0.866733      |              91             |\n",
    "| Batch Size: 512 |    3   |       0.874533      |              46             |\n",
    "|    Epoch: 100   |    4   |        0.8722       |              70             |\n",
    "|  Hidden Unit:32 |    2   | 0.8789333333333333  |              64             |\n",
    "| Batch Size: 512 |    3   |  0.8861333335876465 |              53             |\n",
    "|    Epoch: 100   |    4   |  0.8820000002861023 |              36             |\n",
    "|  Hidden Unit:64 |    2   |  0.8897333331743876 |              39             |\n",
    "| Batch Size: 512 |    3   | 0.8912000000953675  |              23             |\n",
    "|    Epoch: 100   |    4   |  0.8904666667620341 |              27             |\n",
    "| Hidden Unit:128 |    2   | 0.8938000000953674  |              24             |\n",
    "| Batch Size: 512 |    3   |  0.8952000001907349 |              17             |\n",
    "|    Epoch: 100   |    4   |  0.8920666668574015 |              16             |\n",
    "| Hidden Unit:512 |    2   |  0.9011333334287007 |              22             |\n",
    "| Batch Size: 512 |    3   | 0.8990666669527689  |              10             |\n",
    "|    Epoch: 100   |    4   |  0.9001999997456869 |              7              |"
   ]
  },
  {
   "cell_type": "markdown",
   "metadata": {},
   "source": [
    "**2.Batch Size and Epoch:**\n",
    "Following table shows the combination of epochs and batch size and the result of it. After train the model for multiple time with these combinations I have selected my epoch no: 50 and batch size 512.\n",
    "\n",
    "| Epoch | Batch | Validation Accuracy | Test Accuracy |\n",
    "|-------|-------|---------------------|---------------|\n",
    "| 20    | 150   | 0.885733            | 0.8723        |\n",
    "| 50    | 300   | 0.8898              | 0.8825        |\n",
    "| 50    | 512   | 0.887266666762034   | 0.8875        |\n",
    "| 100   | 512   | 0.8918              | 0.8645        |\n",
    "\n",
    "\n",
    "**3. Learning Rate:**\n",
    "Fig6 shows the accuracy and loss during training with different learning rate. I have used three values: 0.0001, 0.001, 0.01 for this purpose. From the graph we can see that with higer learning rate(0.01) validation loss converges quickly and changes irregularly while lower (0.0001) one takes time to minimize validation. So, I choose 0.001 as learning rate for this model which also shows promising accuracy (show the following table).\n",
    "\n",
    "<img src=\"files/lr.png\" alt=\"Drawing\" style=\"width: 800px;\"/> \n",
    "                          **Fig6: Graph of accuracy and loss during training with different learning rate**\n",
    "\n",
    "|  Learning   Rate |  Validation Accuracy | Position of minimum val_loss|\n",
    "|:----------------:|:--------------------:|:----------------:|\n",
    "|      0.0001      |  0.8710000026226044  | 49             |\n",
    "|       0.001      |  0.8889999973773957  | 38             |          \n",
    "|       0.01       |  0.8764666676521301  | 11             |          \n"
   ]
  },
  {
   "cell_type": "markdown",
   "metadata": {},
   "source": [
    "**4. Activation function in middle hidden layer:** Because of the variation in testing accuracy showing in the following table I have chosen *relu* function.\n",
    "\n",
    "| Activation Function |  Val_acc         | Test_acc |\n",
    "|:-------------------:|:----------------:|---------:|\n",
    "|         relu        | 0.887266666762034| 88%      |\n",
    "|         tanh        | 0.888866666507721| 87%      |\n",
    "\n",
    "**5. Optimizer:** I have experimented with different optimizer (SGD and RMSprop) and change the learning rate. In both cases, RMSprop performs better.\n",
    "\n",
    "| Optimizer | Learning Rate | Validation Accuracy | Test Accuracy |\n",
    "|-----------|---------------|---------------------|---------------|\n",
    "| RMSprop   | 0.001         | 0.8886              | 87%           |\n",
    "| RMSprop   | 0.1           | 0.099467            | 99%           |\n",
    "| SGD       | 0.001         | 0.824667            | 82%           |\n",
    "| SGD       | 0.1           | 0.8842              | 88%           |\n"
   ]
  },
  {
   "cell_type": "markdown",
   "metadata": {},
   "source": [
    "**6. Using K-fold:** Using k-fold with different epochs shows random changes in test accuracy.\n",
    "\n",
    "| Epoch | K-Fold | Test Accuracy |\n",
    "|:-----:|:------:|:-------------:|\n",
    "| 100   | 4      | 87%           |\n",
    "| 250   | 4      | 86%           |\n",
    "| 600   | 4      | 87%           |"
   ]
  },
  {
   "cell_type": "markdown",
   "metadata": {},
   "source": [
    "**7. Adding Reularization and Dropout:** As we can see from the following table, that after incorporating regularization with the model test accuracy has been improved. However, adding dropout didn't change the test accuracy.\n",
    "\n",
    "| Parameter                   | Training Accuracy  | Test Accuracy |\n",
    "|-----------------------------|--------------------|---------------|\n",
    "| No Regularization           | 0.8886             | 87%           |\n",
    "| With Regularization         | 0.8895333330790202 | 88%           |\n",
    "| Regularization with Dropout | 0.8774             | 87%           |"
   ]
  },
  {
   "cell_type": "markdown",
   "metadata": {},
   "source": [
    "# Evaluation"
   ]
  },
  {
   "cell_type": "markdown",
   "metadata": {},
   "source": [
    "- Finally, we can see that this approach reaches at the accuracy of ~88% after tuning different parameters.\n",
    "- To improve the model, more layer can be added to it. I think more no of epochs can help with this issue.\n",
    "- It is a simple network with two layers that minimizes the chance of being overfitted. I think for this reason dropout didn't work well on it.\n",
    "- Because of being small, it's hypothesis space is also small. It can hinder the model to get better accuracy.\n",
    "- As this example is a multiclass single-label classification problem, I have used softmax activation on last layer of the network. This function outputs a probability distribution over the N output classes. That means it will produce a probability of each class, whose sum is bound to be one.\n",
    "- Reason behind choosing categorical crossentropy as loss function is that it minimizes the distance between the probability distributions output by the network and the true distribution of the actual results.\n",
    "- K-fold cross validation helps the model to be generalized rather overfitted as it shuffles dataset and create random dataset to validate the model.\n",
    "- Adding regularization on model improves the result as it helps to spread out the weight values instead of having only a few weights with large values."
   ]
  },
  {
   "cell_type": "code",
   "execution_count": null,
   "metadata": {},
   "outputs": [],
   "source": []
  }
 ],
 "metadata": {
  "kernelspec": {
   "display_name": "Python 3",
   "language": "python",
   "name": "python3"
  },
  "language_info": {
   "codemirror_mode": {
    "name": "ipython",
    "version": 3
   },
   "file_extension": ".py",
   "mimetype": "text/x-python",
   "name": "python",
   "nbconvert_exporter": "python",
   "pygments_lexer": "ipython3",
   "version": "3.6.8"
  }
 },
 "nbformat": 4,
 "nbformat_minor": 2
}
