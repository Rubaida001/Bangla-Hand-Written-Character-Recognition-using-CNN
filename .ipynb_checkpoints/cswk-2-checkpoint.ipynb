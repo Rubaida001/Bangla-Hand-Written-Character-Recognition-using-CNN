{
 "cells": [
  {
   "cell_type": "markdown",
   "metadata": {},
   "source": [
    "You are again asked to undertake a deep learning keras project and report your findings in a Jupyter notebook.\n",
    "\n",
    "You may develop one of the lab 5-8 excercises or you can extend your first coursework with part 2 techniques or you can pick a new dataset. \n",
    "\n",
    "You can use the data sets mentioned in Deep Learning with Python or you can investigate another data set. \n",
    "\n",
    "You can use as much DLWP code as you wish (or anyone else's, as long as you have their permission) - but you must reference all code that is not original.\n",
    "\n",
    "Whatever you decide, your project must include at least one of the deep learning techniques in part 2. \n",
    "\n",
    "Submit a single zip file containing your Jupyter notebook. Do not include data, saved models, or pretrained networks please!\n",
    "\n",
    "##### Aims\n",
    "One of\n",
    "- Find the best model for a particular dataset\n",
    "- Investigate a technique across various (similar) datasets\n",
    "- Write a hyperparameter optimisation program and test it on a dataset\n",
    "- A creative project based on the generative models of DLWP chapter 8 (simply running DLWP code is not enough - you must develop the models in some way, or find novel applications)\n",
    "- anything else - but check with me!\n",
    "\n",
    "##### Additional\n",
    "- Best practices and state of the art models: sections 7.1 and 7.3\n",
    "- Inspection and monitoring: section 7.2\n",
    "\n",
    "##### Submission\n",
    "- submit your Jupyter notebook (ensure all code cells have executed).\n",
    "- also submit an html export of your notebook\n",
    "- do not submit pretrained models or datasets\n",
    "- the submission should be a single zip file (not any other compressed file format such as rar)\n",
    "- reference any pretrained model and all datasets\n",
    "- reference any code that is not original\n",
    "- reference any other source e.g. books, kaggle\n",
    "- write a *structured, readable* Jupyter report. [An example of a structured, readable notebook for a simple project](https://colab.research.google.com/github/margaretmz/deep-learning/blob/master/fashion_mnist_keras.ipynb#scrollTo=d44TznbgZZgm)\n",
    "\n"
   ]
  },
  {
   "cell_type": "code",
   "execution_count": null,
   "metadata": {},
   "outputs": [],
   "source": []
  }
 ],
 "metadata": {
  "kernelspec": {
   "display_name": "Python 3",
   "language": "python",
   "name": "python3"
  },
  "language_info": {
   "codemirror_mode": {
    "name": "ipython",
    "version": 3
   },
   "file_extension": ".py",
   "mimetype": "text/x-python",
   "name": "python",
   "nbconvert_exporter": "python",
   "pygments_lexer": "ipython3",
   "version": "3.6.8"
  }
 },
 "nbformat": 4,
 "nbformat_minor": 2
}
