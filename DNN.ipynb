{
 "cells": [
  {
   "cell_type": "code",
   "execution_count": 1,
   "metadata": {},
   "outputs": [
    {
     "name": "stderr",
     "output_type": "stream",
     "text": [
      "Using TensorFlow backend.\n"
     ]
    }
   ],
   "source": [
    "import os, shutil\n",
    "from skimage import data\n",
    "from skimage.transform import resize \n",
    "import numpy as np\n",
    "from matplotlib import pyplot\n",
    "from keras.utils import to_categorical\n",
    "\n",
    "from keras import layers\n",
    "from keras import models\n",
    "\n",
    "from keras import backend as k\n",
    "\n",
    "k.clear_session()"
   ]
  },
  {
   "cell_type": "code",
   "execution_count": 2,
   "metadata": {},
   "outputs": [],
   "source": [
    "#load dataset\n",
    "path, dirs, files = next(os.walk(\"Dataset/train\"))\n",
    "path, dirs2, files2 = next(os.walk(\"Dataset/test\"))\n",
    "path, dirs3, files3 = next(os.walk(\"Dataset/validation\"))\n"
   ]
  },
  {
   "cell_type": "code",
   "execution_count": 3,
   "metadata": {},
   "outputs": [],
   "source": [
    "#read image data\n",
    "def process_data(files,folder):\n",
    "    label_dict={'1':'0','2':'1','3':'2','4':'3','5':'4','6':'5','7':'6','8':'7','9':'8','10':'9','11':'10'}\n",
    "    x=[]\n",
    "    y=[]\n",
    "    for file in files:\n",
    "        limg= data.imread(\"Dataset/\"+folder+'/'+file)\n",
    "        key = file.split('_')[-1].split('.')[0]\n",
    "        label_name = label_dict[key]\n",
    "        #img.resize(200,200)\n",
    "        y.append(label_name)\n",
    "        x.append(limg)\n",
    "    return x,y\n"
   ]
  },
  {
   "cell_type": "code",
   "execution_count": 12,
   "metadata": {},
   "outputs": [],
   "source": [
    "rx_train, y_train = process_data(files,'train')\n",
    "rx_test, y_test = process_data(files2,'test')\n",
    "rx_val, y_val = process_data(files3,'validation')\n",
    "\n",
    "x_train=np.array(rx_train).reshape(len(rx_train),34,34,1)\n",
    "x_test=np.array(rx_test).reshape(len(rx_test),34,34,1)\n",
    "x_val=np.array(rx_val).reshape(len(rx_val),34,34,1)\n",
    "\n",
    "x_train = np.array(x_train).astype('float32') / 255\n",
    "x_test = np.array(x_test).astype('float32') / 255\n",
    "x_val = np.array(x_val).astype('float32') / 255\n",
    "y_train = to_categorical(y_train)\n",
    "y_test = to_categorical(y_test)\n",
    "y_val = to_categorical(y_val)"
   ]
  },
  {
   "cell_type": "code",
   "execution_count": 5,
   "metadata": {},
   "outputs": [],
   "source": [
    "model = models.Sequential()\n",
    "model.add(layers.Dense(16, activation='relu', input_shape=(34*34,)))\n",
    "model.add(layers.Dense(16, activation='relu'))\n",
    "model.add(layers.Dense(11, activation='softmax'))\n",
    "model.compile(optimizer='rmsprop',\n",
    "              loss='categorical_crossentropy',\n",
    "              metrics=['accuracy'])"
   ]
  },
  {
   "cell_type": "code",
   "execution_count": 6,
   "metadata": {},
   "outputs": [],
   "source": []
  },
  {
   "cell_type": "code",
   "execution_count": 7,
   "metadata": {},
   "outputs": [
    {
     "name": "stdout",
     "output_type": "stream",
     "text": [
      "Train on 5335 samples, validate on 5335 samples\n",
      "Epoch 1/20\n",
      "5335/5335 [==============================] - 1s 113us/step - loss: 2.1921 - acc: 0.2223 - val_loss: 2.0180 - val_acc: 0.3018\n",
      "Epoch 2/20\n",
      "5335/5335 [==============================] - 0s 38us/step - loss: 1.7869 - acc: 0.4041 - val_loss: 1.7342 - val_acc: 0.4425\n",
      "Epoch 3/20\n",
      "5335/5335 [==============================] - 0s 33us/step - loss: 1.4948 - acc: 0.5331 - val_loss: 1.5375 - val_acc: 0.5072\n",
      "Epoch 4/20\n",
      "5335/5335 [==============================] - 0s 35us/step - loss: 1.2821 - acc: 0.6135 - val_loss: 1.4127 - val_acc: 0.5408\n",
      "Epoch 5/20\n",
      "5335/5335 [==============================] - 0s 36us/step - loss: 1.1277 - acc: 0.6620 - val_loss: 1.3086 - val_acc: 0.5762\n",
      "Epoch 6/20\n",
      "5335/5335 [==============================] - 0s 29us/step - loss: 1.0157 - acc: 0.6920 - val_loss: 1.2215 - val_acc: 0.6037\n",
      "Epoch 7/20\n",
      "5335/5335 [==============================] - 0s 30us/step - loss: 0.9250 - acc: 0.7164 - val_loss: 1.1723 - val_acc: 0.6129\n",
      "Epoch 8/20\n",
      "5335/5335 [==============================] - 0s 31us/step - loss: 0.8629 - acc: 0.7348 - val_loss: 1.1401 - val_acc: 0.6249\n",
      "Epoch 9/20\n",
      "5335/5335 [==============================] - 0s 32us/step - loss: 0.8129 - acc: 0.7436 - val_loss: 1.1024 - val_acc: 0.6367\n",
      "Epoch 10/20\n",
      "5335/5335 [==============================] - 0s 30us/step - loss: 0.7645 - acc: 0.7597 - val_loss: 1.1005 - val_acc: 0.6276\n",
      "Epoch 11/20\n",
      "5335/5335 [==============================] - 0s 36us/step - loss: 0.7313 - acc: 0.7670 - val_loss: 1.0539 - val_acc: 0.6506\n",
      "Epoch 12/20\n",
      "5335/5335 [==============================] - 0s 33us/step - loss: 0.6990 - acc: 0.7833 - val_loss: 1.0436 - val_acc: 0.6540\n",
      "Epoch 13/20\n",
      "5335/5335 [==============================] - 0s 35us/step - loss: 0.6662 - acc: 0.7964 - val_loss: 1.0272 - val_acc: 0.6596\n",
      "Epoch 14/20\n",
      "5335/5335 [==============================] - 0s 28us/step - loss: 0.6422 - acc: 0.7966 - val_loss: 1.0331 - val_acc: 0.6682\n",
      "Epoch 15/20\n",
      "5335/5335 [==============================] - ETA: 0s - loss: 0.6126 - acc: 0.809 - 0s 35us/step - loss: 0.6177 - acc: 0.8058 - val_loss: 1.0215 - val_acc: 0.6671\n",
      "Epoch 16/20\n",
      "5335/5335 [==============================] - 0s 32us/step - loss: 0.6026 - acc: 0.8107 - val_loss: 1.0055 - val_acc: 0.6769\n",
      "Epoch 17/20\n",
      "5335/5335 [==============================] - 0s 37us/step - loss: 0.5747 - acc: 0.8176 - val_loss: 1.0010 - val_acc: 0.6714\n",
      "Epoch 18/20\n",
      "5335/5335 [==============================] - 0s 44us/step - loss: 0.5696 - acc: 0.8154 - val_loss: 0.9953 - val_acc: 0.6767\n",
      "Epoch 19/20\n",
      "5335/5335 [==============================] - 0s 31us/step - loss: 0.5387 - acc: 0.8336 - val_loss: 0.9907 - val_acc: 0.6802\n",
      "Epoch 20/20\n",
      "5335/5335 [==============================] - 0s 37us/step - loss: 0.5245 - acc: 0.8373 - val_loss: 0.9941 - val_acc: 0.6752\n"
     ]
    }
   ],
   "source": [
    "history = model.fit(x_test,\n",
    "                    y_test,\n",
    "                    epochs=20,\n",
    "                    batch_size=512,\n",
    "                    validation_data=(x_val, y_val))"
   ]
  },
  {
   "cell_type": "code",
   "execution_count": 9,
   "metadata": {},
   "outputs": [],
   "source": [
    "# retrain model from scratch\n",
    "\n",
    "model = models.Sequential()\n",
    "model.add(layers.Dense(16, activation='relu', input_shape=(34*34,)))\n",
    "model.add(layers.Dense(16, activation='relu'))\n",
    "model.add(layers.Dense(11, activation='softmax'))\n",
    "\n"
   ]
  },
  {
   "cell_type": "code",
   "execution_count": 10,
   "metadata": {},
   "outputs": [],
   "source": [
    "model.compile(optimizer='rmsprop',\n",
    "              loss='categorical_crossentropy',\n",
    "              metrics=['accuracy'])\n",
    "\n"
   ]
  },
  {
   "cell_type": "code",
   "execution_count": 13,
   "metadata": {
    "scrolled": true
   },
   "outputs": [
    {
     "name": "stdout",
     "output_type": "stream",
     "text": [
      "Epoch 1/15\n",
      "11000/11000 [==============================] - 1s 60us/step - loss: 2.1100 - acc: 0.2387\n",
      "Epoch 2/15\n",
      "11000/11000 [==============================] - 0s 23us/step - loss: 1.6419 - acc: 0.4346\n",
      "Epoch 3/15\n",
      "11000/11000 [==============================] - 0s 23us/step - loss: 1.3752 - acc: 0.5295\n",
      "Epoch 4/15\n",
      "11000/11000 [==============================] - 0s 22us/step - loss: 1.2184 - acc: 0.5830\n",
      "Epoch 5/15\n",
      "11000/11000 [==============================] - 0s 24us/step - loss: 1.1217 - acc: 0.6170\n",
      "Epoch 6/15\n",
      "11000/11000 [==============================] - 0s 22us/step - loss: 1.0489 - acc: 0.6424\n",
      "Epoch 7/15\n",
      "11000/11000 [==============================] - 0s 22us/step - loss: 0.9979 - acc: 0.6619\n",
      "Epoch 8/15\n",
      "11000/11000 [==============================] - 0s 22us/step - loss: 0.9526 - acc: 0.6785\n",
      "Epoch 9/15\n",
      "11000/11000 [==============================] - 0s 24us/step - loss: 0.9169 - acc: 0.6945\n",
      "Epoch 10/15\n",
      "11000/11000 [==============================] - 0s 22us/step - loss: 0.8837 - acc: 0.7082\n",
      "Epoch 11/15\n",
      "11000/11000 [==============================] - 0s 25us/step - loss: 0.8557 - acc: 0.7145\n",
      "Epoch 12/15\n",
      "11000/11000 [==============================] - 0s 25us/step - loss: 0.8329 - acc: 0.7255\n",
      "Epoch 13/15\n",
      "11000/11000 [==============================] - 0s 23us/step - loss: 0.8095 - acc: 0.7338\n",
      "Epoch 14/15\n",
      "11000/11000 [==============================] - 0s 23us/step - loss: 0.7882 - acc: 0.7386\n",
      "Epoch 15/15\n",
      "11000/11000 [==============================] - 0s 23us/step - loss: 0.7717 - acc: 0.7478\n"
     ]
    },
    {
     "data": {
      "text/plain": [
       "<keras.callbacks.History at 0x211a5373668>"
      ]
     },
     "execution_count": 13,
     "metadata": {},
     "output_type": "execute_result"
    }
   ],
   "source": [
    "model.fit(x_train, y_train, epochs=15, batch_size=512)\n"
   ]
  },
  {
   "cell_type": "code",
   "execution_count": 14,
   "metadata": {},
   "outputs": [
    {
     "name": "stdout",
     "output_type": "stream",
     "text": [
      "5335/5335 [==============================] - 0s 50us/step\n"
     ]
    },
    {
     "data": {
      "text/plain": [
       "[0.7999560422615795, 0.7250234301892418]"
      ]
     },
     "execution_count": 14,
     "metadata": {},
     "output_type": "execute_result"
    }
   ],
   "source": [
    "results = model.evaluate(x_test, y_test)\n",
    "results"
   ]
  }
 ],
 "metadata": {
  "kernelspec": {
   "display_name": "Python 3",
   "language": "python",
   "name": "python3"
  },
  "language_info": {
   "codemirror_mode": {
    "name": "ipython",
    "version": 3
   },
   "file_extension": ".py",
   "mimetype": "text/x-python",
   "name": "python",
   "nbconvert_exporter": "python",
   "pygments_lexer": "ipython3",
   "version": "3.6.8"
  }
 },
 "nbformat": 4,
 "nbformat_minor": 2
}
