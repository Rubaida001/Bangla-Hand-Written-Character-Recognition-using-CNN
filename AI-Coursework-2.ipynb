{
 "cells": [
  {
   "cell_type": "markdown",
   "metadata": {},
   "source": [
    "# 1. Introduction\n",
    "In this project, I will build a classifier to identify Bangla handwritten images. Bangla is the fourth highest spoken language in the world based on the population. There are 10 digits and 50 characters in vowel and consonant in Bangla language where some contains additional sign up and/or below. For this assignment, I have considered 11 vowels of the language to classify. I will build a model that can place an image into one of the 11 class labels. \n",
    "\n",
    "To do so, I have implemented Convolutional Neural Networks (CNN) on this dataset. I have included differnt parameters like, dropout, image augmentation, batch normalization to improve the model. To monitor the model's performance I have used keras callback, early stopping and reducing/increasing learning rate techniques. Finally, I have adopted hyper parameter optimization technique to find out the best model for classification. Moreover, a Dense Neural Network (DNN) with hyper parameter optimization technique has been implemented to make a comparison with CNN. The next sections include all these processes as follows: preparing data, building models, inspecting built models, optimization technique, result analysis and final remarks.     "
   ]
  },
  {
   "cell_type": "code",
   "execution_count": 1,
   "metadata": {},
   "outputs": [
    {
     "name": "stderr",
     "output_type": "stream",
     "text": [
      "Using TensorFlow backend.\n"
     ]
    }
   ],
   "source": [
    "import os, shutil\n",
    "from skimage import data\n",
    "from skimage.transform import resize \n",
    "import numpy as np\n",
    "from matplotlib import pyplot\n",
    "from keras.utils import to_categorical\n",
    "\n",
    "from keras import layers\n",
    "from keras import models\n",
    "import matplotlib.pyplot as plt\n",
    "\n",
    "from keras import backend as k\n",
    "\n",
    "k.clear_session()"
   ]
  },
  {
   "cell_type": "markdown",
   "metadata": {},
   "source": [
    "# 2. Data Analysis\n",
    "Bangla handwritten dataset has been downloaded from this site [1]. It contains samples of 50 Bangla basic characters, 10 Bangla numerals and 24 selected compound characters. 2000 handwriting samples for each of the 84 characters were collected, digitized and pre-processed. As I am using 11 Bangla vowel character, it includes total 21783 images. I have split this data into 60:20:20 portion for training, validation and testing purpose. That's why, 13200 images are for training, 4289 for testing and rest of the images are for testing. \n",
    "## 2.1 Load Dataset\n",
    "With all these data, I have created three folders: train, test, validation to keep respective dataset."
   ]
  },
  {
   "cell_type": "code",
   "execution_count": 2,
   "metadata": {},
   "outputs": [],
   "source": [
    "#load dataset from folder\n",
    "path, dirs, files = next(os.walk(\"Dataset/train\"))\n",
    "path, dirs2, files2 = next(os.walk(\"Dataset/test\"))\n",
    "path, dirs3, files3 = next(os.walk(\"Dataset/validation\"))"
   ]
  },
  {
   "cell_type": "markdown",
   "metadata": {},
   "source": [
    "## 2.2 Preprocessing Dataset\n",
    "Data preprocessing aims at making the raw data at hand more amenable to neural networks. Data should be formatted into appropriately pre-processed floating point tensors before being fed into the network. So, I have applied foloowing procedures to prepare dataset.\n",
    "- **Change Label:** In this dataset, each folder represnets different alphabets. There is 11 folders that starts from 1. Hence, I have changed their label that starting from 0-10. Each of the number represents different character. The class labels are as follow:\n",
    "\n",
    "![title](img/labels.png)"
   ]
  },
  {
   "cell_type": "code",
   "execution_count": 3,
   "metadata": {},
   "outputs": [],
   "source": [
    "#read image,change label\n",
    "def process_data(files,folder):\n",
    "    label_dict={'1':'0','2':'1','3':'2','4':'3','5':'4','6':'5','7':'6','8':'7','9':'8','10':'9','11':'10'}\n",
    "    x=[]\n",
    "    y=[]\n",
    "    for file in files:\n",
    "        limg= data.imread(\"Dataset/\"+folder+'/'+file)\n",
    "        key = file.split('_')[-1].split('.')[0]\n",
    "        label_name = label_dict[key]\n",
    "        #img.resize(200,200)\n",
    "        y.append(label_name)\n",
    "        x.append(limg)\n",
    "    return x,y"
   ]
  },
  {
   "cell_type": "code",
   "execution_count": 4,
   "metadata": {},
   "outputs": [
    {
     "name": "stdout",
     "output_type": "stream",
     "text": [
      "13200  13200\n",
      "4289  4289\n",
      "4294  4294\n"
     ]
    }
   ],
   "source": [
    "#read image,change label\n",
    "rx_train, y_train = process_data(files,'train')\n",
    "rx_test, y_test = process_data(files2,'test')\n",
    "rx_val, y_val = process_data(files3,'validation')\n",
    "print(len(rx_train),'',len(y_train))\n",
    "print(len(rx_test),'',len(y_test))\n",
    "print(len(rx_val),'',len(y_val))"
   ]
  },
  {
   "cell_type": "markdown",
   "metadata": {},
   "source": [
    "The output of following five plots represents first five alphabets from train set. The first character is labeled as class 0, second character is labeled as class 10 and so on. So, other alphabets will have different labels, but similar alphabets will have same labels. "
   ]
  },
  {
   "cell_type": "code",
   "execution_count": null,
   "metadata": {},
   "outputs": [],
   "source": [
    "#Show first 5 alphabets from train set \n",
    "for i in range(0, 5):\n",
    "    pyplot.subplot(330 + 1 + i)\n",
    "    pyplot.imshow(rx_train[i], cmap=pyplot.get_cmap('gray'))\n",
    "# show the plot\n",
    "pyplot.show()"
   ]
  },
  {
   "cell_type": "markdown",
   "metadata": {},
   "source": [
    "- **Reshape Data:** Each image is in grayscale format with different sizes in corresponding dataset. Whereas, Conv2D and MaxPooling2D layer is a 3D tensor of shape (height, width, channels) in convolutional model. So, I have converted each image into (34, 34, 1) shape. "
   ]
  },
  {
   "cell_type": "code",
   "execution_count": 5,
   "metadata": {},
   "outputs": [],
   "source": [
    "x_train=np.array(rx_train).reshape(len(rx_train),34,34,1)\n",
    "x_test=np.array(rx_test).reshape(len(rx_test),34,34,1)\n",
    "x_val=np.array(rx_val).reshape(len(rx_val),34,34,1)"
   ]
  },
  {
   "cell_type": "markdown",
   "metadata": {},
   "source": [
    "- **Normalize Data:** As actual images are 8 bit integers, I converted theme into floating point tensors.Then, rescale the pixel values (between 0 and 255) to the [0, 1] interval as neural networks prefer to deal with small input values. To represent the label, I am using one-hot-encoding which turn the list of numeric or categorical values into the vectors of 0s and 1s.  \n"
   ]
  },
  {
   "cell_type": "code",
   "execution_count": 6,
   "metadata": {},
   "outputs": [],
   "source": [
    "x_train = np.array(x_train).astype('float32') / 255\n",
    "x_test = np.array(x_test).astype('float32') / 255\n",
    "x_val = np.array(x_val).astype('float32') / 255\n",
    "y_train = to_categorical(y_train)\n",
    "y_test = to_categorical(y_test)\n",
    "y_val = to_categorical(y_val)"
   ]
  },
  {
   "cell_type": "code",
   "execution_count": 7,
   "metadata": {},
   "outputs": [
    {
     "name": "stdout",
     "output_type": "stream",
     "text": [
      "(13200, 34, 34, 1)\n",
      "(4289, 34, 34, 1)\n",
      "(4294, 34, 34, 1)\n",
      "(13200, 11)\n",
      "(4289, 11)\n",
      "(4294, 11)\n"
     ]
    }
   ],
   "source": [
    "print(x_train.shape)\n",
    "print(x_test.shape)\n",
    "print(x_val.shape)\n",
    "print(y_train.shape)\n",
    "print(y_test.shape)\n",
    "print(y_val.shape)"
   ]
  },
  {
   "cell_type": "markdown",
   "metadata": {},
   "source": [
    "# 3. Create Model\n",
    "\n",
    "The workflow will be as follows: First, training data (train_images and train_labels) will be passed into the neural network. The network will then learn to associate images and labels. Finally, the network will be tested by predicting for test_images, and verified whether these predictions match the labels from test_labels. For this assignment, I have applied following methods to classify my dataset. \n",
    "- Convolution Neural Network\n",
    "- Data Augmentation\n",
    "- Convolution Neural Network with Dropout and Batch Normalization\n",
    "- Depthwise Separable Convolution \n",
    "- Dense Neural Networks\n",
    "- Hyperparameter Optimization (DNN)\n",
    "- Hyperparameter Optimization (CNN)\n",
    "<p>In later sections, each method is explained along with trainning and testing process. </p>"
   ]
  },
  {
   "cell_type": "markdown",
   "metadata": {},
   "source": [
    "## 3.1 Convolution Neural Network (CNN)\n",
    "<p>The CNNs have several different filters consisting of trainable parameters which can convolve on a given image spatially to detect features like edges and shapes. These high number of filters essentially learn to capture spatial features from the image based on the learned weights through back propagation and stacked layers of filters can be used to detect complex spatial shapes from the spatial features at every subsequent level. Convolutions are defined by two key parameters:</p>\n",
    " - Size of the patches extracted from the inputs: In this case, it is 3 × 3.\n",
    "\n",
    " - Depth of the output feature map: The number of filters computed by the convolution. This model started with a depth of 16 and ended with a depth of 128.\n",
    "\n",
    "Other parameters for this model are:\n",
    "\n",
    "* Activation function for each layer is 'relu' and for final layer is 'softmax'\n",
    "* As it is a multi-label classification problem, I have selected catrgorical_crossentropy for loss function.\n",
    "* Optimizer = rmsprop"
   ]
  },
  {
   "cell_type": "code",
   "execution_count": 8,
   "metadata": {},
   "outputs": [],
   "source": [
    "# Build the model\n",
    "def create_model(option):    \n",
    "    if(option==1):   #Simple CNN\n",
    "        model = models.Sequential()\n",
    "        model.add(layers.Conv2D(16, (3, 3), activation='relu', input_shape=(34, 34, 1)))\n",
    "        model.add(layers.MaxPooling2D((2, 2)))\n",
    "        model.add(layers.Conv2D(32, (3, 3), activation='relu'))\n",
    "        model.add(layers.MaxPooling2D((2, 2)))\n",
    "        model.add(layers.Conv2D(64, (3, 3), activation='relu'))\n",
    "        model.summary()\n",
    "        model.add(layers.Flatten())\n",
    "        model.add(layers.Dense(128, activation='relu'))\n",
    "        model.add(layers.Dense(11, activation='softmax'))\n",
    "        return model\n",
    "    elif(option==2):  #CNN with dropout\n",
    "        model = models.Sequential()\n",
    "        model.add(layers.Conv2D(16, (3, 3), activation='relu',input_shape=(34, 34, 1)))\n",
    "        model.add(layers.MaxPooling2D((2, 2)))\n",
    "        model.add(layers.Dropout(0.25))\n",
    "        model.add(layers.Conv2D(32, (3, 3), activation='relu',padding='same'))\n",
    "        model.add(layers.MaxPooling2D((2, 2)))\n",
    "        model.add(layers.Dropout(0.25))\n",
    "        model.add(layers.Conv2D(64, (3, 3), activation='relu',padding='same'))\n",
    "        model.add(layers.MaxPooling2D((2, 2)))\n",
    "        model.add(layers.Dropout(0.25))\n",
    "        model.summary()\n",
    "\n",
    "        model.add(layers.Flatten())\n",
    "        model.add(layers.Dropout(0.25))\n",
    "        model.add(layers.Dense(128, activation='relu'))\n",
    "        model.add(layers.Dense(11, activation='softmax'))\n",
    "        return model\n",
    "    elif(option ==3):   #CNN with Batch Normalization\n",
    "        model = models.Sequential()\n",
    "        model.add(layers.Conv2D(16, (3, 3), activation='relu',input_shape=(34, 34, 1)))\n",
    "        model.add(layers.BatchNormalization())\n",
    "        model.add(layers.MaxPooling2D((2, 2)))       \n",
    "        model.add(layers.Conv2D(32, (3, 3), activation='relu',padding='same'))\n",
    "        model.add(layers.BatchNormalization())\n",
    "        model.add(layers.MaxPooling2D((2, 2)))       \n",
    "        model.add(layers.Conv2D(64, (3, 3), activation='relu',padding='same'))\n",
    "        model.add(layers.BatchNormalization())\n",
    "        model.add(layers.MaxPooling2D((2, 2)))\n",
    "        model.summary()\n",
    "    \n",
    "        model.add(layers.Flatten())\n",
    "        model.add(layers.Dense(128, activation='relu'))\n",
    "        model.add(layers.BatchNormalization())\n",
    "        model.add(layers.Dense(11, activation='softmax'))\n",
    "        return model\n",
    "    else:                #CNN with Batch Normalization and Dropout\n",
    "        model = models.Sequential()\n",
    "        model.add(layers.Conv2D(16, (3, 3), activation='relu',input_shape=(34, 34, 1)))\n",
    "        model.add(layers.BatchNormalization())\n",
    "        model.add(layers.MaxPooling2D((2, 2)))\n",
    "        model.add(layers.Dropout(0.25))\n",
    "        model.add(layers.Conv2D(32, (3, 3), activation='relu',padding='same'))\n",
    "        model.add(layers.BatchNormalization())\n",
    "        model.add(layers.MaxPooling2D((2, 2)))\n",
    "        model.add(layers.Dropout(0.25))\n",
    "        model.add(layers.Conv2D(64, (3, 3), activation='relu',padding='same'))\n",
    "        model.add(layers.BatchNormalization())\n",
    "        model.add(layers.MaxPooling2D((2, 2)))\n",
    "        model.add(layers.Dropout(0.25))\n",
    "        model.summary()\n",
    "\n",
    "\n",
    "        model.add(layers.Flatten())\n",
    "        model.add(layers.Dropout(0.25))\n",
    "        model.add(layers.Dense(128, activation='relu'))\n",
    "        model.add(layers.BatchNormalization())\n",
    "        model.add(layers.Dense(11, activation='softmax'))      \n",
    "        return model     "
   ]
  },
  {
   "cell_type": "markdown",
   "metadata": {},
   "source": [
    "### Train Simple CNN Model"
   ]
  },
  {
   "cell_type": "code",
   "execution_count": 9,
   "metadata": {},
   "outputs": [],
   "source": [
    "def train_model(x_train,y_train,x_val,y_val,model):\n",
    "    model.compile(optimizer='rmsprop',\n",
    "              loss='categorical_crossentropy',\n",
    "              metrics=['accuracy'])\n",
    "    history = model.fit(x_train, \n",
    "          y_train, \n",
    "          epochs=20,\n",
    "          batch_size = 10,\n",
    "          validation_data=(x_val,y_val))\n",
    "    history_dict = history.history\n",
    "    return history_dict\n",
    "    "
   ]
  },
  {
   "cell_type": "markdown",
   "metadata": {},
   "source": [
    "### Create graph for training and validation accuracy"
   ]
  },
  {
   "cell_type": "code",
   "execution_count": 10,
   "metadata": {},
   "outputs": [],
   "source": [
    "def create_graph(history):\n",
    "    acc = history['acc']\n",
    "    val_acc = history['val_acc']\n",
    "    loss = history['loss']\n",
    "    val_loss =history['val_loss']\n",
    "    epochs = range(1, len(acc) + 1)\n",
    "    print('Position of minimum val_loss: ',np.argmin(val_loss)+1, 'Position of maximum val_acc: ',np.argmax(val_acc)+1)\n",
    "\n",
    "    plt.plot(epochs, acc, 'bo', label='Training acc')\n",
    "    plt.plot(epochs, val_acc, 'b', label='Validation acc')\n",
    "    plt.title('Training and validation accuracy')\n",
    "    plt.legend()\n",
    "    plt.figure()\n",
    "    plt.plot(epochs, loss, 'bo', label='Training loss')\n",
    "    plt.plot(epochs, val_loss, 'b', label='Validation loss')\n",
    "    plt.title('Training and validation loss')\n",
    "    plt.legend()\n",
    "    plt.show()\n",
    "    "
   ]
  },
  {
   "cell_type": "markdown",
   "metadata": {},
   "source": [
    "### Test the model"
   ]
  },
  {
   "cell_type": "code",
   "execution_count": 11,
   "metadata": {},
   "outputs": [],
   "source": [
    "def test_model(model,x_test,y_test,step):\n",
    "    test_loss, test_acc = model.evaluate(x_test, y_test,steps=step)\n",
    "    print('Test Accuracy: ',test_acc)\n",
    "    "
   ]
  },
  {
   "cell_type": "code",
   "execution_count": 12,
   "metadata": {},
   "outputs": [
    {
     "name": "stdout",
     "output_type": "stream",
     "text": [
      "_________________________________________________________________\n",
      "Layer (type)                 Output Shape              Param #   \n",
      "=================================================================\n",
      "conv2d_1 (Conv2D)            (None, 32, 32, 16)        160       \n",
      "_________________________________________________________________\n",
      "max_pooling2d_1 (MaxPooling2 (None, 16, 16, 16)        0         \n",
      "_________________________________________________________________\n",
      "conv2d_2 (Conv2D)            (None, 14, 14, 32)        4640      \n",
      "_________________________________________________________________\n",
      "max_pooling2d_2 (MaxPooling2 (None, 7, 7, 32)          0         \n",
      "_________________________________________________________________\n",
      "conv2d_3 (Conv2D)            (None, 5, 5, 64)          18496     \n",
      "=================================================================\n",
      "Total params: 23,296\n",
      "Trainable params: 23,296\n",
      "Non-trainable params: 0\n",
      "_________________________________________________________________\n"
     ]
    }
   ],
   "source": [
    "model = create_model(1)"
   ]
  },
  {
   "cell_type": "code",
   "execution_count": 13,
   "metadata": {},
   "outputs": [
    {
     "name": "stdout",
     "output_type": "stream",
     "text": [
      "Train on 13200 samples, validate on 4294 samples\n",
      "Epoch 1/20\n",
      "13200/13200 [==============================] - 40s 3ms/step - loss: 0.6134 - acc: 0.7872 - val_loss: 0.4946 - val_acc: 0.8402\n",
      "Epoch 2/20\n",
      "13200/13200 [==============================] - 40s 3ms/step - loss: 0.2615 - acc: 0.9182 - val_loss: 0.4238 - val_acc: 0.8649\n",
      "Epoch 3/20\n",
      "13200/13200 [==============================] - 40s 3ms/step - loss: 0.1868 - acc: 0.9430 - val_loss: 0.3946 - val_acc: 0.8707\n",
      "Epoch 4/20\n",
      "13200/13200 [==============================] - 41s 3ms/step - loss: 0.1405 - acc: 0.9582 - val_loss: 0.4498 - val_acc: 0.8754\n",
      "Epoch 5/20\n",
      "13200/13200 [==============================] - 42s 3ms/step - loss: 0.1125 - acc: 0.9664 - val_loss: 0.3902 - val_acc: 0.8868\n",
      "Epoch 6/20\n",
      "13200/13200 [==============================] - 41s 3ms/step - loss: 0.0861 - acc: 0.9754 - val_loss: 0.6250 - val_acc: 0.8619\n",
      "Epoch 7/20\n",
      "13200/13200 [==============================] - 40s 3ms/step - loss: 0.0670 - acc: 0.9793 - val_loss: 0.5849 - val_acc: 0.8905\n",
      "Epoch 8/20\n",
      "13200/13200 [==============================] - 41s 3ms/step - loss: 0.0534 - acc: 0.9844 - val_loss: 0.6510 - val_acc: 0.8610: 0s - loss: 0.0525\n",
      "Epoch 9/20\n",
      "13200/13200 [==============================] - 42s 3ms/step - loss: 0.0399 - acc: 0.9889 - val_loss: 0.7097 - val_acc: 0.8810\n",
      "Epoch 10/20\n",
      "13200/13200 [==============================] - 42s 3ms/step - loss: 0.0373 - acc: 0.9902 - val_loss: 0.6589 - val_acc: 0.8912\n",
      "Epoch 11/20\n",
      "13200/13200 [==============================] - 42s 3ms/step - loss: 0.0308 - acc: 0.9922 - val_loss: 0.7399 - val_acc: 0.8908\n",
      "Epoch 12/20\n",
      "13200/13200 [==============================] - 40s 3ms/step - loss: 0.0290 - acc: 0.9923 - val_loss: 0.9079 - val_acc: 0.8829\n",
      "Epoch 13/20\n",
      "13200/13200 [==============================] - 40s 3ms/step - loss: 0.0225 - acc: 0.9952 - val_loss: 0.8625 - val_acc: 0.8887\n",
      "Epoch 14/20\n",
      "13200/13200 [==============================] - 41s 3ms/step - loss: 0.0300 - acc: 0.9923 - val_loss: 0.9130 - val_acc: 0.8838\n",
      "Epoch 15/20\n",
      "13200/13200 [==============================] - 41s 3ms/step - loss: 0.0280 - acc: 0.9936 - val_loss: 0.8754 - val_acc: 0.8875\n",
      "Epoch 16/20\n",
      "13200/13200 [==============================] - 40s 3ms/step - loss: 0.0246 - acc: 0.9949 - val_loss: 0.9425 - val_acc: 0.8910\n",
      "Epoch 17/20\n",
      "13200/13200 [==============================] - 41s 3ms/step - loss: 0.0207 - acc: 0.9951 - val_loss: 0.9751 - val_acc: 0.8794\n",
      "Epoch 18/20\n",
      "13200/13200 [==============================] - 38s 3ms/step - loss: 0.0203 - acc: 0.9949 - val_loss: 1.1189 - val_acc: 0.8880\n",
      "Epoch 19/20\n",
      "13200/13200 [==============================] - 39s 3ms/step - loss: 0.0214 - acc: 0.9960 - val_loss: 1.1238 - val_acc: 0.8749\n",
      "Epoch 20/20\n",
      "13200/13200 [==============================] - 39s 3ms/step - loss: 0.0227 - acc: 0.9958 - val_loss: 1.0763 - val_acc: 0.8752\n"
     ]
    }
   ],
   "source": [
    "history = train_model(x_train,y_train,x_val,y_val,model)"
   ]
  },
  {
   "cell_type": "code",
   "execution_count": 14,
   "metadata": {},
   "outputs": [
    {
     "name": "stdout",
     "output_type": "stream",
     "text": [
      "Position of minimum val_loss:  5 Position of maximum val_acc:  10\n"
     ]
    },
    {
     "data": {
      "image/png": "[encoded data removed]",
      "text/plain": [
       "<Figure size 432x288 with 1 Axes>"
      ]
     },
     "metadata": {
      "needs_background": "light"
     },
     "output_type": "display_data"
    },
    {
     "data": {
      "image/png": "[encoded data removed]",
      "text/plain": [
       "<Figure size 432x288 with 1 Axes>"
      ]
     },
     "metadata": {
      "needs_background": "light"
     },
     "output_type": "display_data"
    }
   ],
   "source": [
    "create_graph(history)"
   ]
  },
  {
   "cell_type": "code",
   "execution_count": 15,
   "metadata": {},
   "outputs": [
    {
     "name": "stdout",
     "output_type": "stream",
     "text": [
      "5/5 [==============================] - 10s 2s/step\n",
      "Test Accuracy:  0.9102354645729065\n"
     ]
    }
   ],
   "source": [
    "#Test Model\n",
    "test_model(model,x_test,y_test,(np.argmin(history['val_loss'])+1))"
   ]
  },
  {
   "cell_type": "markdown",
   "metadata": {},
   "source": [
    "## 3.2 Data Augmentation\n",
    "In the above model, minimum validation loss is found at position 3. It is quite an indication of overfitting. Overfitting is caused by having too few samples to learn from, unable to train a model that can generalize to new data. Data augmentation is a popular technique to prevent overfiting. It takes the approach of generating more training data from existing training samples, by augmenting the samples via a number of random transformations that yield believable-looking images. The goal is that at training time, model will never see the exact same picture twice. In following section I have generated train data using ImageDataGenerator function.\n",
    "\n",
    "<p> Incorporating data augmentation should increase the classification rate. But in this case, it seems doing the opposite as the result is decreasing. The result is presented in the last section of this chapter.</p>"
   ]
  },
  {
   "cell_type": "code",
   "execution_count": 16,
   "metadata": {},
   "outputs": [],
   "source": [
    "from keras.preprocessing.image import ImageDataGenerator\n",
    "\n",
    "datagen = ImageDataGenerator(\n",
    "    rotation_range=25,\n",
    "    width_shift_range=0.005,\n",
    "    height_shift_range=0.005,\n",
    "    shear_range=0.02,\n",
    "    zoom_range=0.02,\n",
    "    horizontal_flip=True,\n",
    "    fill_mode='nearest')"
   ]
  },
  {
   "cell_type": "code",
   "execution_count": 17,
   "metadata": {},
   "outputs": [
    {
     "name": "stdout",
     "output_type": "stream",
     "text": [
      "_________________________________________________________________\n",
      "Layer (type)                 Output Shape              Param #   \n",
      "=================================================================\n",
      "conv2d_4 (Conv2D)            (None, 32, 32, 16)        160       \n",
      "_________________________________________________________________\n",
      "max_pooling2d_3 (MaxPooling2 (None, 16, 16, 16)        0         \n",
      "_________________________________________________________________\n",
      "conv2d_5 (Conv2D)            (None, 14, 14, 32)        4640      \n",
      "_________________________________________________________________\n",
      "max_pooling2d_4 (MaxPooling2 (None, 7, 7, 32)          0         \n",
      "_________________________________________________________________\n",
      "conv2d_6 (Conv2D)            (None, 5, 5, 64)          18496     \n",
      "=================================================================\n",
      "Total params: 23,296\n",
      "Trainable params: 23,296\n",
      "Non-trainable params: 0\n",
      "_________________________________________________________________\n"
     ]
    }
   ],
   "source": [
    "# Build the model\n",
    "model = create_model(1)"
   ]
  },
  {
   "cell_type": "code",
   "execution_count": 18,
   "metadata": {},
   "outputs": [],
   "source": [
    "def train_with_augmentation(x_train,y_train,x_val,y_val,model):\n",
    "    model.compile(optimizer='rmsprop',\n",
    "              loss='categorical_crossentropy',\n",
    "              metrics=['accuracy'])\n",
    "    history = model.fit_generator(\n",
    "        datagen.flow(x_train,y_train,batch_size=10),\n",
    "        steps_per_epoch=10,\n",
    "        epochs=20,\n",
    "        validation_data=(x_val,y_val),\n",
    "        validation_steps=10)\n",
    "    history_dict = history.history\n",
    "    return history_dict"
   ]
  },
  {
   "cell_type": "code",
   "execution_count": 19,
   "metadata": {},
   "outputs": [
    {
     "name": "stdout",
     "output_type": "stream",
     "text": [
      "Epoch 1/20\n",
      "10/10 [==============================] - 6s 628ms/step - loss: 2.4215 - acc: 0.1000 - val_loss: 2.3735 - val_acc: 0.1511\n",
      "Epoch 2/20\n",
      "10/10 [==============================] - 5s 451ms/step - loss: 2.3653 - acc: 0.1500 - val_loss: 2.3219 - val_acc: 0.1369\n",
      "Epoch 3/20\n",
      "10/10 [==============================] - 5s 452ms/step - loss: 2.2398 - acc: 0.2300 - val_loss: 2.1438 - val_acc: 0.2205\n",
      "Epoch 4/20\n",
      "10/10 [==============================] - 4s 444ms/step - loss: 2.0478 - acc: 0.2700 - val_loss: 2.0677 - val_acc: 0.2625\n",
      "Epoch 5/20\n",
      "10/10 [==============================] - 4s 446ms/step - loss: 1.8002 - acc: 0.3900 - val_loss: 1.8567 - val_acc: 0.3374\n",
      "Epoch 6/20\n",
      "10/10 [==============================] - 5s 462ms/step - loss: 1.7998 - acc: 0.3300 - val_loss: 1.7937 - val_acc: 0.3395\n",
      "Epoch 7/20\n",
      "10/10 [==============================] - 5s 474ms/step - loss: 1.5584 - acc: 0.4600 - val_loss: 1.8389 - val_acc: 0.3663\n",
      "Epoch 8/20\n",
      "10/10 [==============================] - 5s 482ms/step - loss: 1.6401 - acc: 0.4300 - val_loss: 1.7355 - val_acc: 0.3579\n",
      "Epoch 9/20\n",
      "10/10 [==============================] - 5s 456ms/step - loss: 1.4333 - acc: 0.4100 - val_loss: 1.7568 - val_acc: 0.3675\n",
      "Epoch 10/20\n",
      "10/10 [==============================] - 5s 471ms/step - loss: 1.6022 - acc: 0.4500 - val_loss: 1.6607 - val_acc: 0.3931\n",
      "Epoch 11/20\n",
      "10/10 [==============================] - 5s 472ms/step - loss: 1.4742 - acc: 0.5000 - val_loss: 1.6127 - val_acc: 0.4010\n",
      "Epoch 12/20\n",
      "10/10 [==============================] - 5s 486ms/step - loss: 1.5027 - acc: 0.4400 - val_loss: 1.6820 - val_acc: 0.3940\n",
      "Epoch 13/20\n",
      "10/10 [==============================] - 5s 470ms/step - loss: 1.5883 - acc: 0.3600 - val_loss: 1.6910 - val_acc: 0.4031\n",
      "Epoch 14/20\n",
      "10/10 [==============================] - 4s 434ms/step - loss: 1.4518 - acc: 0.4500 - val_loss: 1.5198 - val_acc: 0.4450\n",
      "Epoch 15/20\n",
      "10/10 [==============================] - 4s 449ms/step - loss: 1.4613 - acc: 0.5000 - val_loss: 1.7282 - val_acc: 0.4099\n",
      "Epoch 16/20\n",
      "10/10 [==============================] - 5s 467ms/step - loss: 1.5862 - acc: 0.4100 - val_loss: 1.5491 - val_acc: 0.4581\n",
      "Epoch 17/20\n",
      "10/10 [==============================] - 5s 470ms/step - loss: 1.3533 - acc: 0.4700 - val_loss: 1.5263 - val_acc: 0.4599\n",
      "Epoch 18/20\n",
      "10/10 [==============================] - 5s 459ms/step - loss: 1.4194 - acc: 0.4900 - val_loss: 1.6334 - val_acc: 0.4376\n",
      "Epoch 19/20\n",
      "10/10 [==============================] - 4s 447ms/step - loss: 1.3695 - acc: 0.5400 - val_loss: 1.4786 - val_acc: 0.4676\n",
      "Epoch 20/20\n",
      "10/10 [==============================] - 4s 440ms/step - loss: 1.3568 - acc: 0.5500 - val_loss: 1.7186 - val_acc: 0.4096\n"
     ]
    }
   ],
   "source": [
    "# Train the model\n",
    "history = train_with_augmentation(x_train,y_train,x_val,y_val,model)"
   ]
  },
  {
   "cell_type": "code",
   "execution_count": 20,
   "metadata": {},
   "outputs": [
    {
     "name": "stdout",
     "output_type": "stream",
     "text": [
      "Position of minimum val_loss:  19 Position of maximum val_acc:  19\n"
     ]
    },
    {
     "data": {
      "image/png": "[encoded data removed]",
      "text/plain": [
       "<Figure size 432x288 with 1 Axes>"
      ]
     },
     "metadata": {
      "needs_background": "light"
     },
     "output_type": "display_data"
    },
    {
     "data": {
      "image/png": "[encoded data removed]",
      "text/plain": [
       "<Figure size 432x288 with 1 Axes>"
      ]
     },
     "metadata": {
      "needs_background": "light"
     },
     "output_type": "display_data"
    },
    {
     "name": "stdout",
     "output_type": "stream",
     "text": [
      "19/19 [==============================] - 36s 2s/step\n",
      "Test Accuracy:  0.45581719279289246\n"
     ]
    }
   ],
   "source": [
    "# Training and Validation Graph\n",
    "create_graph(history)\n",
    "\n",
    "# Evaluate the model\n",
    "test_model(model,x_test,y_test,(np.argmin(history['val_loss'])+1))"
   ]
  },
  {
   "cell_type": "markdown",
   "metadata": {},
   "source": [
    "## 3.3 Convolution Neural Network with Dropout and Batch Normalization\n",
    "In this section I have applied multiple parameters in CNN model to maximize the accuracy level. The outcome of these experiments are described later in summary section.\n",
    "### 3.3.1 CNN with Dropout\n",
    "Another technique to reduce overfitting is to add dropout layer in the model."
   ]
  },
  {
   "cell_type": "code",
   "execution_count": 21,
   "metadata": {},
   "outputs": [
    {
     "name": "stdout",
     "output_type": "stream",
     "text": [
      "_________________________________________________________________\n",
      "Layer (type)                 Output Shape              Param #   \n",
      "=================================================================\n",
      "conv2d_7 (Conv2D)            (None, 32, 32, 16)        160       \n",
      "_________________________________________________________________\n",
      "max_pooling2d_5 (MaxPooling2 (None, 16, 16, 16)        0         \n",
      "_________________________________________________________________\n",
      "dropout_1 (Dropout)          (None, 16, 16, 16)        0         \n",
      "_________________________________________________________________\n",
      "conv2d_8 (Conv2D)            (None, 16, 16, 32)        4640      \n",
      "_________________________________________________________________\n",
      "max_pooling2d_6 (MaxPooling2 (None, 8, 8, 32)          0         \n",
      "_________________________________________________________________\n",
      "dropout_2 (Dropout)          (None, 8, 8, 32)          0         \n",
      "_________________________________________________________________\n",
      "conv2d_9 (Conv2D)            (None, 8, 8, 64)          18496     \n",
      "_________________________________________________________________\n",
      "max_pooling2d_7 (MaxPooling2 (None, 4, 4, 64)          0         \n",
      "_________________________________________________________________\n",
      "dropout_3 (Dropout)          (None, 4, 4, 64)          0         \n",
      "=================================================================\n",
      "Total params: 23,296\n",
      "Trainable params: 23,296\n",
      "Non-trainable params: 0\n",
      "_________________________________________________________________\n"
     ]
    }
   ],
   "source": [
    "# Build the model\n",
    "model = create_model(2)"
   ]
  },
  {
   "cell_type": "code",
   "execution_count": null,
   "metadata": {},
   "outputs": [
    {
     "name": "stdout",
     "output_type": "stream",
     "text": [
      "Epoch 1/20\n",
      "10/10 [==============================] - 7s 728ms/step - loss: 2.4280 - acc: 0.1200 - val_loss: 2.3763 - val_acc: 0.1521\n",
      "Epoch 2/20\n",
      "10/10 [==============================] - 5s 528ms/step - loss: 2.3583 - acc: 0.1800 - val_loss: 2.3565 - val_acc: 0.1530\n",
      "Epoch 3/20\n",
      "10/10 [==============================] - 5s 488ms/step - loss: 2.3559 - acc: 0.1700 - val_loss: 2.3270 - val_acc: 0.1688\n",
      "Epoch 4/20\n",
      "10/10 [==============================] - 5s 501ms/step - loss: 2.3319 - acc: 0.1600 - val_loss: 2.2666 - val_acc: 0.2694\n",
      "Epoch 5/20\n",
      "10/10 [==============================] - 5s 454ms/step - loss: 2.2370 - acc: 0.2600 - val_loss: 2.1933 - val_acc: 0.2483\n",
      "Epoch 6/20\n",
      "10/10 [==============================] - 5s 477ms/step - loss: 2.2056 - acc: 0.2100 - val_loss: 2.1006 - val_acc: 0.3114\n",
      "Epoch 7/20\n",
      "10/10 [==============================] - 5s 505ms/step - loss: 2.1423 - acc: 0.2400 - val_loss: 2.0003 - val_acc: 0.3309\n",
      "Epoch 8/20\n",
      "10/10 [==============================] - 5s 494ms/step - loss: 2.0510 - acc: 0.2400 - val_loss: 1.9383 - val_acc: 0.2967\n",
      "Epoch 9/20\n",
      "10/10 [==============================] - 5s 489ms/step - loss: 1.9766 - acc: 0.2800 - val_loss: 1.8553 - val_acc: 0.3090\n",
      "Epoch 10/20\n",
      "10/10 [==============================] - 5s 495ms/step - loss: 2.0142 - acc: 0.2600 - val_loss: 1.8884 - val_acc: 0.3221\n",
      "Epoch 11/20\n",
      "10/10 [==============================] - 5s 498ms/step - loss: 1.8561 - acc: 0.3100 - val_loss: 1.7407 - val_acc: 0.3365\n",
      "Epoch 12/20\n",
      "10/10 [==============================] - 5s 459ms/step - loss: 1.8249 - acc: 0.3200 - val_loss: 1.8089 - val_acc: 0.2736\n",
      "Epoch 13/20\n",
      "10/10 [==============================] - 5s 466ms/step - loss: 1.7264 - acc: 0.4400 - val_loss: 1.6870 - val_acc: 0.3524\n",
      "Epoch 14/20\n",
      "10/10 [==============================] - 5s 487ms/step - loss: 1.7427 - acc: 0.3400 - val_loss: 1.6521 - val_acc: 0.3840\n",
      "Epoch 15/20\n",
      "10/10 [==============================] - 5s 459ms/step - loss: 1.6380 - acc: 0.3500 - val_loss: 1.7048 - val_acc: 0.3514\n",
      "Epoch 16/20\n",
      "10/10 [==============================] - 4s 422ms/step - loss: 1.7266 - acc: 0.3400 - val_loss: 1.6583 - val_acc: 0.4041\n",
      "Epoch 17/20\n",
      "10/10 [==============================] - 5s 483ms/step - loss: 1.7288 - acc: 0.3200 - val_loss: 1.6639 - val_acc: 0.3640\n",
      "Epoch 18/20\n",
      "10/10 [==============================] - 5s 485ms/step - loss: 1.7955 - acc: 0.2900 - val_loss: 1.6581 - val_acc: 0.3605\n",
      "Epoch 19/20\n",
      "10/10 [==============================] - 5s 495ms/step - loss: 1.5522 - acc: 0.4600 - val_loss: 1.6653 - val_acc: 0.3761\n",
      "Epoch 20/20\n",
      "10/10 [==============================] - 5s 464ms/step - loss: 1.4838 - acc: 0.4300 - val_loss: 1.6705 - val_acc: 0.3579\n"
     ]
    }
   ],
   "source": [
    "# Train the model\n",
    "#history = train_model(x_train,y_train,x_val,y_val,model)\n",
    "history = train_with_augmentation(x_train,y_train,x_val,y_val,model)"
   ]
  },
  {
   "cell_type": "code",
   "execution_count": null,
   "metadata": {},
   "outputs": [
    {
     "name": "stdout",
     "output_type": "stream",
     "text": [
      "Position of minimum val_loss:  14 Position of maximum val_acc:  16\n"
     ]
    },
    {
     "data": {
      "image/png": "[encoded data removed]",
      "text/plain": [
       "<Figure size 432x288 with 1 Axes>"
      ]
     },
     "metadata": {
      "needs_background": "light"
     },
     "output_type": "display_data"
    },
    {
     "data": {
      "image/png": "[encoded data removed]",
      "text/plain": [
       "<Figure size 432x288 with 1 Axes>"
      ]
     },
     "metadata": {
      "needs_background": "light"
     },
     "output_type": "display_data"
    },
    {
     "name": "stdout",
     "output_type": "stream",
     "text": [
      "14/14 [==============================] - 32s 2s/step\n",
      "Test Accuracy:  0.3835392892360687\n"
     ]
    }
   ],
   "source": [
    "# Training and Validation Graph\n",
    "create_graph(history)\n",
    "\n",
    "# Evaluate the model\n",
    "test_model(model,x_test,y_test,(np.argmin(history['val_loss'])+1))"
   ]
  },
  {
   "cell_type": "markdown",
   "metadata": {},
   "source": [
    "### 3.3.2 CNN with Batch Normalization\n",
    "Batch normalization is a type of layer (BatchNormalization in Keras) that can adaptively normalize data even as the mean and\n",
    "variance change over time during training. It works by internally maintaining an exponential moving average of the batch-wise mean and variance of the data seen during training. The main effect of batch normalization is that it helps with gradient propagation and thus allows for deeper networks."
   ]
  },
  {
   "cell_type": "code",
   "execution_count": null,
   "metadata": {},
   "outputs": [
    {
     "name": "stdout",
     "output_type": "stream",
     "text": [
      "_________________________________________________________________\n",
      "Layer (type)                 Output Shape              Param #   \n",
      "=================================================================\n",
      "conv2d_10 (Conv2D)           (None, 32, 32, 16)        160       \n",
      "_________________________________________________________________\n",
      "batch_normalization_1 (Batch (None, 32, 32, 16)        64        \n",
      "_________________________________________________________________\n",
      "max_pooling2d_8 (MaxPooling2 (None, 16, 16, 16)        0         \n",
      "_________________________________________________________________\n",
      "conv2d_11 (Conv2D)           (None, 16, 16, 32)        4640      \n",
      "_________________________________________________________________\n",
      "batch_normalization_2 (Batch (None, 16, 16, 32)        128       \n",
      "_________________________________________________________________\n",
      "max_pooling2d_9 (MaxPooling2 (None, 8, 8, 32)          0         \n",
      "_________________________________________________________________\n",
      "conv2d_12 (Conv2D)           (None, 8, 8, 64)          18496     \n",
      "_________________________________________________________________\n",
      "batch_normalization_3 (Batch (None, 8, 8, 64)          256       \n",
      "_________________________________________________________________\n",
      "max_pooling2d_10 (MaxPooling (None, 4, 4, 64)          0         \n",
      "=================================================================\n",
      "Total params: 23,744\n",
      "Trainable params: 23,520\n",
      "Non-trainable params: 224\n",
      "_________________________________________________________________\n"
     ]
    }
   ],
   "source": [
    "# Build the model\n",
    "model = create_model(3)"
   ]
  },
  {
   "cell_type": "code",
   "execution_count": null,
   "metadata": {},
   "outputs": [
    {
     "name": "stdout",
     "output_type": "stream",
     "text": [
      "Epoch 1/20\n",
      "10/10 [==============================] - 14s 1s/step - loss: 2.5768 - acc: 0.1900 - val_loss: 3.6327 - val_acc: 0.1882\n",
      "Epoch 2/20\n",
      "10/10 [==============================] - 10s 1s/step - loss: 2.1474 - acc: 0.2700 - val_loss: 3.0902 - val_acc: 0.3069\n",
      "Epoch 3/20\n",
      "10/10 [==============================] - 10s 995ms/step - loss: 2.0672 - acc: 0.3500 - val_loss: 3.1919 - val_acc: 0.2969\n",
      "Epoch 4/20\n",
      "10/10 [==============================] - 10s 994ms/step - loss: 1.6917 - acc: 0.3600 - val_loss: 2.7564 - val_acc: 0.3307\n",
      "Epoch 5/20\n",
      "10/10 [==============================] - 10s 1s/step - loss: 1.6699 - acc: 0.4300 - val_loss: 2.4316 - val_acc: 0.3409\n",
      "Epoch 6/20\n",
      "10/10 [==============================] - 10s 960ms/step - loss: 1.6466 - acc: 0.4000 - val_loss: 2.3225 - val_acc: 0.3547\n",
      "Epoch 7/20\n",
      "10/10 [==============================] - 10s 1s/step - loss: 1.5062 - acc: 0.4500 - val_loss: 2.2874 - val_acc: 0.3759\n",
      "Epoch 8/20\n",
      "10/10 [==============================] - 10s 1s/step - loss: 1.4500 - acc: 0.5300 - val_loss: 2.3272 - val_acc: 0.3628\n",
      "Epoch 9/20\n",
      "10/10 [==============================] - 10s 1s/step - loss: 1.5952 - acc: 0.4800 - val_loss: 2.0217 - val_acc: 0.4131\n",
      "Epoch 10/20\n",
      "10/10 [==============================] - 10s 987ms/step - loss: 1.5967 - acc: 0.4200 - val_loss: 1.9985 - val_acc: 0.4120\n",
      "Epoch 11/20\n",
      "10/10 [==============================] - 10s 1s/step - loss: 1.2836 - acc: 0.5600 - val_loss: 2.7188 - val_acc: 0.3440\n",
      "Epoch 12/20\n",
      "10/10 [==============================] - 10s 1s/step - loss: 1.4115 - acc: 0.5200 - val_loss: 2.5840 - val_acc: 0.3896\n",
      "Epoch 13/20\n",
      "10/10 [==============================] - 10s 1s/step - loss: 1.4054 - acc: 0.5300 - val_loss: 2.3103 - val_acc: 0.4243\n",
      "Epoch 14/20\n",
      "10/10 [==============================] - 10s 1s/step - loss: 1.2798 - acc: 0.5300 - val_loss: 2.7814 - val_acc: 0.3626\n",
      "Epoch 15/20\n",
      "10/10 [==============================] - 10s 992ms/step - loss: 1.1963 - acc: 0.6300 - val_loss: 2.7506 - val_acc: 0.3940\n",
      "Epoch 16/20\n",
      "10/10 [==============================] - 10s 1s/step - loss: 1.3903 - acc: 0.5600 - val_loss: 2.9755 - val_acc: 0.3514\n",
      "Epoch 17/20\n",
      "10/10 [==============================] - 10s 971ms/step - loss: 1.1143 - acc: 0.5800 - val_loss: 2.4251 - val_acc: 0.4292\n",
      "Epoch 18/20\n",
      "10/10 [==============================] - 10s 1s/step - loss: 1.3727 - acc: 0.5000 - val_loss: 2.0926 - val_acc: 0.4811\n",
      "Epoch 19/20\n",
      "10/10 [==============================] - 10s 971ms/step - loss: 1.0298 - acc: 0.6400 - val_loss: 2.1055 - val_acc: 0.4644\n",
      "Epoch 20/20\n",
      "10/10 [==============================] - 10s 982ms/step - loss: 1.1887 - acc: 0.6800 - val_loss: 1.7177 - val_acc: 0.4932\n"
     ]
    }
   ],
   "source": [
    "# Train the model\n",
    "#history = train_model(x_train,y_train,x_val,y_val,model)\n",
    "history = train_with_augmentation(x_train,y_train,x_val,y_val,model)"
   ]
  },
  {
   "cell_type": "code",
   "execution_count": null,
   "metadata": {},
   "outputs": [
    {
     "name": "stdout",
     "output_type": "stream",
     "text": [
      "Position of minimum val_loss:  20 Position of maximum val_acc:  20\n"
     ]
    },
    {
     "data": {
      "image/png": "[encoded data removed]",
      "text/plain": [
       "<Figure size 432x288 with 1 Axes>"
      ]
     },
     "metadata": {
      "needs_background": "light"
     },
     "output_type": "display_data"
    },
    {
     "data": {
      "image/png": "[encoded data removed]",
      "text/plain": [
       "<Figure size 432x288 with 1 Axes>"
      ]
     },
     "metadata": {
      "needs_background": "light"
     },
     "output_type": "display_data"
    },
    {
     "name": "stdout",
     "output_type": "stream",
     "text": [
      "20/20 [==============================] - 164s 8s/step\n",
      "Test Accuracy:  0.535322904586792\n"
     ]
    }
   ],
   "source": [
    "# Training and Validation Graph\n",
    "create_graph(history)\n",
    "\n",
    "# Evaluate the model\n",
    "test_model(model,x_test,y_test,(np.argmin(history['val_loss'])+1))"
   ]
  },
  {
   "cell_type": "markdown",
   "metadata": {},
   "source": [
    "### 3.3.3 CNN with Dropout and Batch Normalization\n",
    "I have combined both dropout and normalization to improve the classification rate. Comparing with other two approaches, it shows the best result so far. That is **93.5% accuracy rate** "
   ]
  },
  {
   "cell_type": "code",
   "execution_count": null,
   "metadata": {},
   "outputs": [
    {
     "name": "stdout",
     "output_type": "stream",
     "text": [
      "_________________________________________________________________\n",
      "Layer (type)                 Output Shape              Param #   \n",
      "=================================================================\n",
      "conv2d_13 (Conv2D)           (None, 32, 32, 16)        160       \n",
      "_________________________________________________________________\n",
      "batch_normalization_5 (Batch (None, 32, 32, 16)        64        \n",
      "_________________________________________________________________\n",
      "max_pooling2d_11 (MaxPooling (None, 16, 16, 16)        0         \n",
      "_________________________________________________________________\n",
      "dropout_5 (Dropout)          (None, 16, 16, 16)        0         \n",
      "_________________________________________________________________\n",
      "conv2d_14 (Conv2D)           (None, 16, 16, 32)        4640      \n",
      "_________________________________________________________________\n",
      "batch_normalization_6 (Batch (None, 16, 16, 32)        128       \n",
      "_________________________________________________________________\n",
      "max_pooling2d_12 (MaxPooling (None, 8, 8, 32)          0         \n",
      "_________________________________________________________________\n",
      "dropout_6 (Dropout)          (None, 8, 8, 32)          0         \n",
      "_________________________________________________________________\n",
      "conv2d_15 (Conv2D)           (None, 8, 8, 64)          18496     \n",
      "_________________________________________________________________\n",
      "batch_normalization_7 (Batch (None, 8, 8, 64)          256       \n",
      "_________________________________________________________________\n",
      "max_pooling2d_13 (MaxPooling (None, 4, 4, 64)          0         \n",
      "_________________________________________________________________\n",
      "dropout_7 (Dropout)          (None, 4, 4, 64)          0         \n",
      "=================================================================\n",
      "Total params: 23,744\n",
      "Trainable params: 23,520\n",
      "Non-trainable params: 224\n",
      "_________________________________________________________________\n"
     ]
    }
   ],
   "source": [
    "# Build the model\n",
    "model = create_model(5)"
   ]
  },
  {
   "cell_type": "markdown",
   "metadata": {},
   "source": [
    "* After creating the model, I have implemented it on both normal dataset and augmentic dataset. "
   ]
  },
  {
   "cell_type": "code",
   "execution_count": null,
   "metadata": {},
   "outputs": [
    {
     "name": "stdout",
     "output_type": "stream",
     "text": [
      "Train on 13200 samples, validate on 4294 samples\n",
      "Epoch 1/20\n",
      " 7540/13200 [================>.............] - ETA: 1:11 - loss: 1.0912 - acc: 0.6159"
     ]
    }
   ],
   "source": [
    "# Train the model\n",
    "\n",
    "history = train_model(x_train,y_train,x_val,y_val,model)"
   ]
  },
  {
   "cell_type": "code",
   "execution_count": null,
   "metadata": {},
   "outputs": [],
   "source": [
    "# Train model with augmentated data\n",
    "history = train_with_augmentation(x_train,y_train,x_val,y_val,model)"
   ]
  },
  {
   "cell_type": "code",
   "execution_count": null,
   "metadata": {},
   "outputs": [],
   "source": [
    "# Training and Validation Graph\n",
    "create_graph(history)\n",
    "\n",
    "# Evaluate the model\n",
    "test_model(model,x_test,y_test,(np.argmin(history['val_loss'])+1))"
   ]
  },
  {
   "cell_type": "code",
   "execution_count": null,
   "metadata": {},
   "outputs": [],
   "source": [
    "### Display Predicted Image\n",
    "\n",
    "## predicted Image\n",
    "predicted_classes = model.predict(x_test)\n",
    "predicted_classes = np.argmax(np.round(predicted_classes),axis=1)\n",
    "predicted_classes.shape, y_test.shape\n",
    "\n",
    "import matplotlib.pyplot as plt\n",
    "correct = np.where(predicted_classes==y_test)[0]\n",
    "print (\"Found correct labels\", len(correct))\n",
    "for i, correct in enumerate(correct[:9]):\n",
    "    plt.subplot(3,3,i+1)\n",
    "    plt.imshow(x_test[correct].reshape(34,34), cmap='gray', interpolation='none')\n",
    "    plt.title(\"Predicted {}, Class {}\".format(predicted_classes[correct], y_test[correct]))\n",
    "    plt.tight_layout()"
   ]
  },
  {
   "cell_type": "markdown",
   "metadata": {},
   "source": [
    "## 3.4 Depthwise Separable Convolution \n",
    "Depthwise Separable convolutions consists in performing just the first step in a depthwise spatial convolution (which acts on each input channel separately). It requires significantly fewer parameters and involves fewer computations, thus resulting in smaller, speedier models. And because it’s a more representationally efficient way to perform convolution, it tends to learn\n",
    "better representations using less data, resulting in better-performing models."
   ]
  },
  {
   "cell_type": "code",
   "execution_count": null,
   "metadata": {},
   "outputs": [],
   "source": [
    "from keras import layers\n",
    "from keras import models\n",
    "\n",
    "model = models.Sequential()\n",
    "model.add(layers.SeparableConv2D(32, 3,activation='relu',input_shape=(34, 34, 1,)))\n",
    "model.add(layers.SeparableConv2D(64, 3, activation='relu'))\n",
    "model.add(layers.MaxPooling2D(2))\n",
    "\n",
    "model.add(layers.SeparableConv2D(64, 3, activation='relu'))\n",
    "model.add(layers.SeparableConv2D(128, 3, activation='relu'))\n",
    "model.add(layers.MaxPooling2D(2))\n",
    "\n",
    "model.add(layers.SeparableConv2D(64, 3, activation='relu'))\n",
    "model.add(layers.SeparableConv2D(128, 3, activation='relu'))\n",
    "model.add(layers.GlobalAveragePooling2D())\n",
    "\n",
    "model.add(layers.Dense(32, activation='relu'))\n",
    "model.add(layers.Dense(11, activation='softmax'))\n",
    "\n"
   ]
  },
  {
   "cell_type": "code",
   "execution_count": null,
   "metadata": {},
   "outputs": [],
   "source": [
    "model.compile(optimizer='rmsprop', loss='categorical_crossentropy',metrics=['acc'])\n",
    "history = model.fit(x_train, \n",
    "          y_train, \n",
    "          epochs=20,\n",
    "          batch_size = 10,\n",
    "          validation_data=(x_val,y_val))"
   ]
  },
  {
   "cell_type": "code",
   "execution_count": null,
   "metadata": {},
   "outputs": [],
   "source": [
    "history_dict = history.history\n",
    "create_graph(history_dict)"
   ]
  },
  {
   "cell_type": "code",
   "execution_count": null,
   "metadata": {},
   "outputs": [],
   "source": [
    "test_loss, test_acc = model.evaluate(x_test, y_test,steps=(np.argmin(history_dict['val_loss'])+1))\n",
    "test_acc"
   ]
  },
  {
   "cell_type": "markdown",
   "metadata": {},
   "source": [
    "## Summary\n",
    "\n",
    "After applying all these above methods, it is quite clear that using data augmentation does not improve the accuracy rate. Rather, models without augmentation look good. Using two differnet techniques (dropout and batch normalization), creates the best result. \n",
    "\n",
    "| Method \t| Dropout \t| Batch N \t| Epoch \t| Low Val_loss \t| Test Accuracy \t| Validation Accuracy \t|\n",
    "|:------:\t|:-------:\t|:-------:\t|:-----:\t|:------------:\t|:-------------:\t|:-------------------:\t|\n",
    "|   CNN  \t|    n    \t|    n    \t|   20  \t|       3      \t|    0.90837    \t|        0.8922       \t|\n",
    "|   CNN  \t|    y    \t|    n    \t|   20  \t|      13      \t|    0.925857   \t|        0.9059       \t|\n",
    "|   CNN  \t|    n    \t|    y    \t|   20  \t|       3      \t|    0.933784   \t|        0.9089       \t|\n",
    "|   CNN  \t|    y    \t|    y    \t|   20  \t|       3      \t|    0.93495    \t|        0.9459       \t|\n",
    "|   DSC  \t|    -    \t|    -    \t|   20  \t|       9      \t|    0.869667   \t|        0.8386       \t|\n",
    "                                     \n",
    "                            \n",
    "                            *** DSC - Depthwise Seperable Convolution\n",
    "                            **Result of Different Models without Data Augmentation**\n",
    "                            \n",
    "It was anticipiated that, depthwise seperable convolution model would minimize the complexity of basic convolution as well as improve the result. But it yields the worst performance for both augmented data and train/test set.                           \n",
    "                            \n",
    "\n",
    "                \n",
    "| Method \t| Dropout \t| Batch N \t| Epoch \t| Low Val_loss \t| Test Accuracy \t| Validation Accuracy \t|\n",
    "|:------:\t|:-------:\t|:-------:\t|:-----:\t|:------------:\t|:-------------:\t|:-------------------:\t|\n",
    "|   CNN  \t|    n    \t|    n    \t|   20  \t|      18      \t|    0.378876   \t|        0.381        \t|\n",
    "|   CNN  \t|    y    \t|    n    \t|   20  \t|      19      \t|    0.314059   \t|        0.326        \t|\n",
    "|   CNN  \t|    n    \t|    y    \t|   20  \t|       5      \t|    0.224528   \t|        0.3172       \t|\n",
    "|   CNN  \t|    y    \t|    y    \t|   20  \t|      19      \t|    0.276055   \t|        0.323        \t|\n",
    "|   DSC  \t|    -    \t|    -    \t|   20  \t|      14      \t|    0.089765   \t|        0.0915       \t|\n",
    "\n",
    "                             **Result of Different Models with Data Augmentation**"
   ]
  },
  {
   "cell_type": "markdown",
   "metadata": {},
   "source": [
    "## 3.6 Dense Neural Networks\n",
    "I have applied DNN network on this dataset to check whether it improves the result. For this implementation, I have created 3 layers model with 16 hidden units except the output layer. Other then that, optimizer, activation function and loss function all are same in both CNN and DNN model. The **classification rate with this model is about 73%** \n"
   ]
  },
  {
   "cell_type": "code",
   "execution_count": null,
   "metadata": {},
   "outputs": [],
   "source": [
    "%run DNN.ipynb"
   ]
  },
  {
   "cell_type": "markdown",
   "metadata": {},
   "source": [
    "## 3.7 Hyperparameter Optimization (DNN)\n",
    "Hyperparameter optimization is a powerful technique that is an absolute requirement to get to state-of-the-art models on any task. There are lots of parameter and model architectures to build a single network. It is very time consuming to find a best set of layers, activation function and learning rate manually. In this assignment, I have used Hyperas library to select optimized parameters automatically for best model of DNN. **The whole code is included in another notebook named, DNNoptimizer.ipynb.** The optimized parameters for DNN are:\n",
    "                         * Batch size = 128\n",
    "                         * No of layer = 3\n",
    "                         * First Layer = 1024 hidden unit; Dropout= 0.25; activation = relu\n",
    "                         * Second Layer = 256 hidden units; Dropout= 0.59 ; activation = relu\n",
    "                         * Third Layer = 128 hidden units; Dropout = 0.66 ; activation = relu\n",
    "                         * Output Layer: Activation = softmax\n",
    "                         * Optimizer = adam\n",
    "                         * learning rate = 0.001\n",
    "                         * Epochs = 20\n",
    "Using this optimized model, **the classification rate went up to 85%.** This indicates that accuracy rate is increased by more than 10% from normal model. "
   ]
  },
  {
   "cell_type": "code",
   "execution_count": null,
   "metadata": {},
   "outputs": [],
   "source": [
    "%run DNNoptimizer.ipynb"
   ]
  },
  {
   "cell_type": "markdown",
   "metadata": {},
   "source": [
    "## 3.8 Hyperparameter Optimization (CNN)\n",
    "Another optimization technique is implemented on CNN model. Although using library makes it easy to find the optimized solution, still it is computationally expensive. It takes more than 5 hours to execute. **The whole code is included in another notebook named, OptimizingCNN.ipynb.**"
   ]
  },
  {
   "cell_type": "code",
   "execution_count": null,
   "metadata": {},
   "outputs": [],
   "source": [
    "%run OptimizingCNN.ipynb"
   ]
  },
  {
   "cell_type": "markdown",
   "metadata": {},
   "source": [
    "# 4. Inspecting Models Using Keras Callback\n",
    "* Early Stopping: EarlyStopping callback can use to interrupt training once a target metric being monitored has stopped improving for a fixed number of epochs. This callback is typically used in combination with ModelCheckpoint, which lets continually save the model during training.\n",
    "* Checkpointing: A good use of checkpointing is to output the model weights each time an improvement is observed during training. Checkpointing is setup to save the network weights only when there is an improvement in classification accuracy on the validation dataset (monitor=’val_acc’ and mode=’max’). The weights are stored in a file that includes the score in the filename.\n",
    "\n",
    "* ReduceLROnPlateau: You can use this callback to reduce the learning rate when the validation loss has stopped improving. Reducing or increasing the learning rate in case of a loss plateau is an effective strategy to get out of local minima during training."
   ]
  },
  {
   "cell_type": "code",
   "execution_count": null,
   "metadata": {},
   "outputs": [],
   "source": [
    "import keras.utils\n",
    "callbacks_list = [\n",
    "    keras.callbacks.EarlyStopping(\n",
    "    monitor='val_acc',\n",
    "    patience=1,\n",
    "    ),\n",
    "    keras.callbacks.ModelCheckpoint(\n",
    "    filepath='my_model.h5',\n",
    "    monitor='val_loss',\n",
    "    save_best_only=True,\n",
    "    ),\n",
    "    keras.callbacks.ReduceLROnPlateau(\n",
    "    monitor='val_loss',\n",
    "    factor=0.1,\n",
    "    patience=10,)\n",
    "]\n",
    "#Build Simple CNN\n",
    "model= create_model(1)\n",
    "\n",
    "#Train Simple CNN\n",
    "\n",
    "model.compile(optimizer='rmsprop',\n",
    "              loss='categorical_crossentropy',\n",
    "            metrics=['acc'])\n",
    "model.fit(x_train, y_train, epochs=50,batch_size=32,callbacks=callbacks_list,validation_data=(x_val, y_val),save_best_only=True)\n"
   ]
  },
  {
   "cell_type": "markdown",
   "metadata": {},
   "source": [
    "# 5. Conclusion\n",
    "So far, I have applied CNN and DNN. Between these two methods, CNN works well with dropout and batch normalization technique. But there is some challenges in this assignment that I will work on future. These are:\n",
    "\n",
    "- Although there exists more than 50 characters in Bangla language, this dataset is relatively small than this. To make a better classifier, it is necessary to upgrade this dataset.\n",
    "- TensorBoard is a great way to visualize model activity in the browser. Anyone can use it in Keras models via the TensorBoard callback. Using tensorboard in model analysis will be my one of the feature work. \n",
    "- There is a number of keras function API to build advance neural network model. In future, I will incorporate it in my model.\n"
   ]
  },
  {
   "cell_type": "markdown",
   "metadata": {},
   "source": [
    "# 6. Reference\n",
    "\n",
    "1. https://data.mendeley.com/datasets/hf6sf8zrkc/2\n",
    "2. https://www.datacamp.com/community/tutorials/convolutional-neural-networks-python\n",
    "3. https://towardsdatascience.com/a-guide-to-an-efficient-way-to-build-neural-network-architectures-part-i-hyper-parameter-8129009f131b?fbclid=IwAR1TcWxidpqvCaxAxH6KFZOMQw9PnbOBHjIe71at-jVSedBpyxV052ToSFk\n",
    "4. https://stackoverflow.com/questions/20186344/ipynb-import-another-ipynb-file\n",
    "5. https://keras.rstudio.com/reference/layer_depthwise_conv_2d.html\n",
    "6. https://docgo.net/viewdoc.html?utm_source=dropbox-chollet-pdf"
   ]
  },
  {
   "cell_type": "code",
   "execution_count": null,
   "metadata": {},
   "outputs": [],
   "source": []
  }
 ],
 "metadata": {
  "kernelspec": {
   "display_name": "Python 3",
   "language": "python",
   "name": "python3"
  },
  "language_info": {
   "codemirror_mode": {
    "name": "ipython",
    "version": 3
   },
   "file_extension": ".py",
   "mimetype": "text/x-python",
   "name": "python",
   "nbconvert_exporter": "python",
   "pygments_lexer": "ipython3",
   "version": "3.6.8"
  }
 },
 "nbformat": 4,
 "nbformat_minor": 2
}
